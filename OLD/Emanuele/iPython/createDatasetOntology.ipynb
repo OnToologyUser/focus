{
 "cells": [
  {
   "cell_type": "code",
   "execution_count": 1,
   "metadata": {},
   "outputs": [
    {
     "name": "stdout",
     "output_type": "stream",
     "text": [
      "Populating the interactive namespace from numpy and matplotlib\n"
     ]
    }
   ],
   "source": [
    "%matplotlib inline\n",
    "import warnings\n",
    "warnings.filterwarnings('ignore')\n",
    "%config InlineBackend.figure_format = 'retina'\n",
    "%pylab inline\n",
    "\n",
    "from __future__ import division\n",
    "import rdflib\n",
    "from rdflib.graph import Graph, ConjunctiveGraph\n",
    "from rdflib import Graph, URIRef, BNode, Literal\n",
    "from rdflib import RDF\n",
    "from rdflib import Namespace\n",
    "from rdflib.namespace import OWL, RDF, RDFS, FOAF, XSD\n",
    "from SPARQLWrapper import SPARQLWrapper, JSON\n",
    "import numpy as np\n",
    "import matplotlib.pyplot as plt\n",
    "from shapely.geometry.multipolygon import MultiPolygon\n",
    "from shapely import wkt\n",
    "from descartes import PolygonPatch\n",
    "from shapely.geometry.polygon import LinearRing\n",
    "import seaborn as sns\n",
    "import pandas as pd\n",
    "from matplotlib.collections import PatchCollection\n",
    "\n",
    "from mpl_toolkits.axes_grid1 import make_axes_locatable\n",
    "from mpl_toolkits.axes_grid1.inset_locator import inset_axes"
   ]
  },
  {
   "cell_type": "code",
   "execution_count": 13,
   "metadata": {
    "collapsed": true
   },
   "outputs": [],
   "source": [
    "schema = rdflib.Namespace('http://schema.org/')\n",
    "time   = rdflib.Namespace('http://www.w3.org/2006/time#')\n",
    "dbo    = rdflib.Namespace('http://dbpedia.org/ontology/')\n",
    "dbp    = rdflib.Namespace('http://dbpedia.org/property/')\n",
    "res    = rdflib.Namespace('http://dbpedia.org/resource/')\n",
    "rdf    = rdflib.Namespace('http://www.w3.org/1999/02/22-rdf-syntax-ns#')\n",
    "rdfs   = rdflib.Namespace('http://www.w3.org/2000/01/rdf-schema#')"
   ]
  },
  {
   "cell_type": "code",
   "execution_count": 14,
   "metadata": {},
   "outputs": [],
   "source": [
    "focus =  Namespace(\"http://www.semanticweb.org/myOntology#\")\n",
    "g.bind(\"myOntology\", focus)\n",
    "\n",
    "# Create the graph \n",
    "g = Graph()\n",
    "tmp = URIRef(focus[\"city1\"])\n",
    "\n",
    "g.add((tmp, RDF.type, dbo.city))\n",
    "g.add((tmp, FOAF.name, Literal('Paris') ))\n",
    "# Create the node to add to the Graph"
   ]
  },
  {
   "cell_type": "code",
   "execution_count": 15,
   "metadata": {
    "collapsed": true
   },
   "outputs": [],
   "source": [
    "g.serialize(destination='outputCities.nt', format='nt')"
   ]
  },
  {
   "cell_type": "code",
   "execution_count": 41,
   "metadata": {},
   "outputs": [],
   "source": [
    "sparql = SPARQLWrapper(\"http://dbpedia.org/sparql\")\n",
    "query = \"\"\"\n",
    "PREFIX dbo: <http://dbpedia.org/ontology/>\n",
    "PREFIX dbr: <http://dbpedia.org/resource/>\n",
    "SELECT ?s ?area WHERE {\n",
    " ?s a dbo:City ;\n",
    "    dbo:country dbr:Switzerland.\n",
    "    ?s dbo:areaTotal ?area.\n",
    "}\n",
    "\"\"\"\n",
    "sparql.setQuery(query)\n",
    "sparql.setReturnFormat(JSON)\n",
    "results = sparql.query().convert()"
   ]
  },
  {
   "cell_type": "code",
   "execution_count": 42,
   "metadata": {},
   "outputs": [
    {
     "name": "stdout",
     "output_type": "stream",
     "text": [
      "4.137e+07\n",
      "2.856e+07\n",
      "2.121e+07\n",
      "1.561e+07\n",
      "3.74e+07\n",
      "7.5e+07\n",
      "3.1e+07\n",
      "2.16e+07\n",
      "6.793e+07\n",
      "9.33e+06\n",
      "5.566e+07\n",
      "1.109e+07\n",
      "2.037e+07\n",
      "5.1e+06\n",
      "9.188e+07\n"
     ]
    }
   ],
   "source": [
    "for result in results[\"results\"][\"bindings\"]:\n",
    "    print result[\"area\"][\"value\"]"
   ]
  },
  {
   "cell_type": "code",
   "execution_count": 29,
   "metadata": {
    "collapsed": true
   },
   "outputs": [],
   "source": [
    "g = Graph()\n",
    "sparql.setQuery(query)\n",
    "sparql.method = 'GET'\n",
    "sparql.setReturnFormat(JSON)\n",
    "output = sparql.query().convert()"
   ]
  },
  {
   "cell_type": "code",
   "execution_count": 30,
   "metadata": {
    "collapsed": true
   },
   "outputs": [],
   "source": [
    "g.serialize(destination='outputArea.nt', format='nt')"
   ]
  },
  {
   "cell_type": "code",
   "execution_count": 22,
   "metadata": {
    "collapsed": true
   },
   "outputs": [],
   "source": [
    "dbpediaSparqlEndpoint = 'http://dbpedia.org/sparql/'\n",
    "sparql = SPARQLWrapper(dbpediaSparqlEndpoint)\n",
    "dbpedia_query = \"\"\"\n",
    "PREFIX : <http://dbpedia.org/resource/> \n",
    "SELECT ?s ?p ?o \n",
    "WHERE {{?s ?p ?o \n",
    "        FILTER (?s=:Benin)} \n",
    "        UNION {?s ?p ?o . \n",
    "FILTER (?o=:Benin)}}\"\"\"\n",
    "\n",
    "dataGraph = Graph()\n",
    "sparql.setQuery(dbpedia_query)\n",
    "sparql.method = 'GET'\n",
    "sparql.setReturnFormat(JSON)\n",
    "output = sparql.query().convert()"
   ]
  },
  {
   "cell_type": "code",
   "execution_count": 25,
   "metadata": {
    "collapsed": true
   },
   "outputs": [],
   "source": [
    "dataGraph.serialize(destination='outputBenin.nt', format='nt')"
   ]
  },
  {
   "cell_type": "code",
   "execution_count": null,
   "metadata": {
    "collapsed": true
   },
   "outputs": [],
   "source": []
  }
 ],
 "metadata": {
  "kernelspec": {
   "display_name": "Python 2",
   "language": "python",
   "name": "python2"
  },
  "language_info": {
   "codemirror_mode": {
    "name": "ipython",
    "version": 2
   },
   "file_extension": ".py",
   "mimetype": "text/x-python",
   "name": "python",
   "nbconvert_exporter": "python",
   "pygments_lexer": "ipython2",
   "version": "2.7.14"
  }
 },
 "nbformat": 4,
 "nbformat_minor": 2
}
