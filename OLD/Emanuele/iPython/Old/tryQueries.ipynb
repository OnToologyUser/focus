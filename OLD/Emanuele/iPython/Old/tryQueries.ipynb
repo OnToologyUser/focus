{
 "cells": [
  {
   "cell_type": "code",
   "execution_count": 2,
   "metadata": {
    "collapsed": false
   },
   "outputs": [
    {
     "name": "stdout",
     "output_type": "stream",
     "text": [
      "Populating the interactive namespace from numpy and matplotlib\n"
     ]
    }
   ],
   "source": [
    "%matplotlib inline\n",
    "import warnings\n",
    "warnings.filterwarnings('ignore')\n",
    "%config InlineBackend.figure_format = 'retina'\n",
    "%pylab inline\n",
    "from __future__ import division\n",
    "import rdflib\n",
    "from rdflib.graph import Graph, ConjunctiveGraph\n",
    "from rdflib import Graph, URIRef, BNode, Literal\n",
    "from rdflib import RDF\n",
    "from rdflib import Namespace\n",
    "from rdflib.namespace import OWL, RDF, RDFS, FOAF, XSD\n",
    "from SPARQLWrapper import SPARQLWrapper, JSON\n",
    "import numpy as np\n",
    "import matplotlib.pyplot as plt\n"
   ]
  },
  {
   "cell_type": "code",
   "execution_count": 3,
   "metadata": {
    "collapsed": true
   },
   "outputs": [],
   "source": [
    "g = Graph()\n",
    "FOCUS = Namespace(\"http://www.semanticweb.org/massaro/swissData/\")\n",
    "g.bind(\"focus\", FOCUS)"
   ]
  },
  {
   "cell_type": "code",
   "execution_count": 5,
   "metadata": {
    "collapsed": false
   },
   "outputs": [
    {
     "name": "stdout",
     "output_type": "stream",
     "text": [
      "http://dbpedia.org/resource/Richard_Nixon is a http://dbpedia.org/ontology/Person\n"
     ]
    }
   ],
   "source": [
    "from rdflib import Graph, URIRef, RDF\n",
    "uri = URIRef('http://dbpedia.org/resource/Richard_Nixon')\n",
    "person = URIRef('http://dbpedia.org/ontology/Person')\n",
    "\n",
    "g = Graph()\n",
    "g.parse(uri)\n",
    "\n",
    "for obj in g.objects(subject=uri, predicate=RDF.type):\n",
    "    if obj == person:\n",
    "        print uri, \"is a\", person"
   ]
  },
  {
   "cell_type": "code",
   "execution_count": null,
   "metadata": {
    "collapsed": true
   },
   "outputs": [],
   "source": []
  }
 ],
 "metadata": {
  "anaconda-cloud": {},
  "kernelspec": {
   "display_name": "Python [default]",
   "language": "python",
   "name": "python2"
  },
  "language_info": {
   "codemirror_mode": {
    "name": "ipython",
    "version": 2
   },
   "file_extension": ".py",
   "mimetype": "text/x-python",
   "name": "python",
   "nbconvert_exporter": "python",
   "pygments_lexer": "ipython2",
   "version": "2.7.12"
  }
 },
 "nbformat": 4,
 "nbformat_minor": 1
}
