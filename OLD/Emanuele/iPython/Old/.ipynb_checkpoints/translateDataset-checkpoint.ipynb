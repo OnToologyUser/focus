{
 "cells": [
  {
   "cell_type": "code",
   "execution_count": null,
   "metadata": {
    "collapsed": true
   },
   "outputs": [],
   "source": [
    "import goslate\n",
    "import pandas as pd\n",
    "from textblob import TextBlob\n",
    "import fileinput\n",
    "import goslate"
   ]
  },
  {
   "cell_type": "code",
   "execution_count": null,
   "metadata": {
    "collapsed": true
   },
   "outputs": [],
   "source": [
    "import urllib2\n",
    "proxy_handler = urllib2.ProxyHandler({\"http\" : \"http://proxy-domain.name:8080\"})\n",
    "proxy_opener = urllib2.build_opener(urllib2.HTTPHandler(proxy_handler),\n",
    "                                    urllib2.HTTPSHandler(proxy_handler))\n",
    "gosl = 1\n",
    "\n",
    "if gosl == 1:\n",
    "    #gs = goslate.Goslate()\n",
    "    gs = goslate.Goslate(opener=proxy_opener)\n",
    "    f = open('trial.csv','r')\n",
    "    while True:\n",
    "        text = f.readline()\n",
    "        if len(text) > 6:\n",
    "            text1 = gs.translate(text, 'en')\n",
    "            text = text1\n",
    "            print(text1)   \n",
    "else:\n",
    "    f = open('Mobiliardaten_GIS.csv','r')\n",
    "    while True:\n",
    "        text = f.readline()\n",
    "        if len(text) > 6:\n",
    "            b = TextBlob(text)\n",
    "            print (b.translate(to='en'))"
   ]
  },
  {
   "cell_type": "code",
   "execution_count": null,
   "metadata": {
    "collapsed": true
   },
   "outputs": [],
   "source": [
    "f = open('trial.csv','r')\n",
    "while True:\n",
    "    text = f.readline()\n",
    "    if len(text) > 6:\n",
    "        print(text)\n",
    "f.close()"
   ]
  },
  {
   "cell_type": "code",
   "execution_count": 9,
   "metadata": {
    "collapsed": true
   },
   "outputs": [],
   "source": [
    "gs = goslate.Goslate()\n",
    "for line in fileinput.input(\"Mobiliardaten_GIS.csv\", inplace=True):\n",
    "    text = gs.translate(line, 'en')\n",
    "    print (\"%s \\n\" % (text)),\n",
    "    #print (\"%d: %s \\n\" % (fileinput.filelineno(), 'ciao')),\n",
    "    "
   ]
  },
  {
   "cell_type": "code",
   "execution_count": null,
   "metadata": {
    "collapsed": true
   },
   "outputs": [],
   "source": [
    "gs = goslate.Goslate()\n",
    "for line in fileinput.input(\"dataSetDescription.csv\", inplace=True):\n",
    "    text = gs.translate(line, 'en')\n",
    "    print (\"%s \\n\" % (text)),\n",
    "    #print (\"%d: %s \\n\" % (fileinput.filelineno(), 'ciao')),"
   ]
  }
 ],
 "metadata": {
  "kernelspec": {
   "display_name": "Python 2",
   "language": "python",
   "name": "python2"
  },
  "language_info": {
   "codemirror_mode": {
    "name": "ipython",
    "version": 2
   },
   "file_extension": ".py",
   "mimetype": "text/x-python",
   "name": "python",
   "nbconvert_exporter": "python",
   "pygments_lexer": "ipython2",
   "version": "2.7.14"
  }
 },
 "nbformat": 4,
 "nbformat_minor": 2
}
