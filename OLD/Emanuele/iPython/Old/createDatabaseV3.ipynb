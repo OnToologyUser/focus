{
 "cells": [
  {
   "cell_type": "code",
   "execution_count": 1,
   "metadata": {},
   "outputs": [
    {
     "name": "stdout",
     "output_type": "stream",
     "text": [
      "Populating the interactive namespace from numpy and matplotlib\n"
     ]
    }
   ],
   "source": [
    "from __future__ import division\n",
    "\n",
    "import warnings\n",
    "warnings.filterwarnings('ignore')\n",
    "%config InlineBackend.figure_format = 'retina'\n",
    "%pylab inline\n",
    "\n",
    "import numpy as np\n",
    "import pandas as pd\n",
    "\n",
    "import sql  # the patched version (file is named sql.py)\n",
    "from sqlalchemy import create_engine\n",
    "\n",
    "\n",
    "import time\n",
    "from datetime import datetime\n",
    "from sys import platform\n",
    "\n",
    "\n",
    "import psycopg2 as ps\n",
    "from psycopg2.extensions import ISOLATION_LEVEL_AUTOCOMMIT\n",
    "from psycopg2.extensions import AsIs\n",
    "\n",
    "import os\n",
    "from os import listdir\n",
    "from os.path import isfile, join\n",
    "\n",
    "if platform == \"linux\" or platform == \"linux2\":\n",
    "    prefix = \"/home/massaro/\"\n",
    "elif platform == \"darwin\":\n",
    "    prefix = \"/Users/emanuele/\"\n",
    "    \n",
    "    \n",
    "folder = prefix+'Dropbox (MIT)/HERUS_Lab/'"
   ]
  },
  {
   "cell_type": "markdown",
   "metadata": {},
   "source": [
    "# Table of Contents\n",
    "* [1. Functions](#1.-Functions)\n",
    "* [2. Switzerland](#2.-Switzerland)\n",
    "    * [2.1 Key Data](#2.1-Key-Data)\n",
    "    * [2.2 Cercle Indicators](#2.1-Key-Data)"
   ]
  },
  {
   "cell_type": "markdown",
   "metadata": {},
   "source": [
    "# 1. Functions"
   ]
  },
  {
   "cell_type": "code",
   "execution_count": 2,
   "metadata": {
    "collapsed": true
   },
   "outputs": [],
   "source": [
    "def remove_non_ascii_2(text):\n",
    "    return ''.join([i if ord(i) < 128 else '' for i in text])\n",
    "\n",
    "def returnT(num):\n",
    "    return int((num // 1000))\n",
    "\n",
    "def returnDataFromKeyData(path, year, zipCodes):\n",
    "    fName = '/keyData%d.csv'%year\n",
    "    keyData = pd.read_csv(path + fName, sep=' ', encoding='utf-8') \n",
    "    tmpData = pd.DataFrame()\n",
    "    keyData['Name of commune'][2120] = \"Crans-Montana\"\n",
    "    tmpData['cityName'] = keyData['Name of commune']\n",
    "    tmpData['cityName'] = tmpData['cityName']\n",
    "    tmpData['cityName'] = tmpData['cityName'].str.replace(r'[\\(\\)\\d]+', '')  ## Remove Parenthesis to merge\n",
    "    c = []\n",
    "    z = []\n",
    "    a = []\n",
    "    for i in tmpData.cityName:\n",
    "        tmp = zipCodes[zipCodes['cityName'] == i]\n",
    "        if len(tmp > 0):\n",
    "            c.append(tmp.cantonAbbreviation[tmp.index[0]]  )\n",
    "            z.append(tmp.zipCode[tmp.index[0]] )\n",
    "            a.append(i)\n",
    "        else:\n",
    "            tmp = zipCodes[zipCodes['communityName'] == i]\n",
    "            if len(tmp) == 0:\n",
    "                continue\n",
    "            c.append(tmp.cantonAbbreviation[tmp.index[0]]  )\n",
    "            z.append(tmp.zipCode[tmp.index[0]] )\n",
    "            a.append(i)\n",
    "    swissData = pd.DataFrame()\n",
    "    swissData['urbanSystem'] = a\n",
    "    swissData['region']   = c\n",
    "    swissData['zipCode']  = z\n",
    "    swissData['state']    = 'Switzerland'\n",
    "    swissData['spatiaLevel']    = 'Municipality'\n",
    "    \n",
    "    keyData = keyData.rename(columns={'Name of commune': 'urbanSystem'})\n",
    "    keyData['urbanSystem'] = keyData['urbanSystem'].str.replace(r'[\\(\\)\\d]+', '')\n",
    "    keyData = keyData.drop_duplicates(subset='urbanSystem', keep=\"last\")\n",
    "    keyData = keyData.reset_index(drop=True)\n",
    "    keyData = keyData.drop('Change in ha', 1)\n",
    "    keyData = keyData.drop('Change in ha.1', 1)\n",
    "    \n",
    "    \n",
    "    return swissData.merge(keyData, on='urbanSystem')\n",
    "    "
   ]
  },
  {
   "cell_type": "markdown",
   "metadata": {},
   "source": [
    "# 2. Switzerland"
   ]
  },
  {
   "cell_type": "code",
   "execution_count": 3,
   "metadata": {
    "collapsed": true
   },
   "outputs": [],
   "source": [
    "### Zip Code\n",
    "path = folder + 'Data/Switzerland/localityPostalCode/zipCodes.csv'\n",
    "zipCodes = pd.read_csv(path, sep= ' ', encoding='utf-8')\n",
    "col = ['cityName', 'zipCode', 'additionalClause', 'communityName', 'BFS-Nr', \n",
    "       'cantonAbbreviation', 'E', 'N']\n",
    "zipCodes.columns = col\n",
    "zipCodes['cityName'] = zipCodes['cityName']\n",
    "zipCodes['communityName'] = zipCodes['communityName'].str.replace(r'[\\(\\)\\d]+', '')  ## Remove Parenthesis to merge"
   ]
  },
  {
   "cell_type": "markdown",
   "metadata": {},
   "source": [
    "## 2.1 Key Data"
   ]
  },
  {
   "cell_type": "code",
   "execution_count": 4,
   "metadata": {
    "collapsed": true
   },
   "outputs": [],
   "source": [
    "path = prefix+'Dropbox (MIT)/HERUS_Lab/Data/Switzerland/keyData/'"
   ]
  },
  {
   "cell_type": "code",
   "execution_count": 5,
   "metadata": {
    "collapsed": true
   },
   "outputs": [],
   "source": [
    "benchData = pd.read_csv(prefix+'Dropbox (MIT)/HERUS_Lab/Data/Switzerland/keyDataSwiss.csv')\n",
    "benchColumn = benchData.columns"
   ]
  },
  {
   "cell_type": "code",
   "execution_count": 8,
   "metadata": {
    "collapsed": true
   },
   "outputs": [],
   "source": [
    "swissData2017 = returnDataFromKeyData(path, 2017, zipCodes)\n",
    "swissData2016 = returnDataFromKeyData(path, 2016, zipCodes)\n",
    "swissData2015 = returnDataFromKeyData(path, 2015, zipCodes)\n",
    "swissData2014 = returnDataFromKeyData(path, 2014, zipCodes)\n",
    "swissData2013 = returnDataFromKeyData(path, 2013, zipCodes)\n",
    "swissData2012 = returnDataFromKeyData(path, 2012, zipCodes)"
   ]
  },
  {
   "cell_type": "code",
   "execution_count": 9,
   "metadata": {
    "collapsed": true
   },
   "outputs": [],
   "source": [
    "swissData2017.columns = benchColumn\n",
    "swissData2016.columns = benchColumn\n",
    "swissData2015.columns = benchColumn\n",
    "swissData2014.columns = benchColumn\n",
    "swissData2013.columns = benchColumn\n",
    "swissData2012.columns = benchColumn"
   ]
  },
  {
   "cell_type": "code",
   "execution_count": 13,
   "metadata": {
    "collapsed": true
   },
   "outputs": [],
   "source": [
    "swissData2017.to_csv(prefix+'Dropbox (MIT)/HERUS_Lab/Data/Switzerland/keyDataSwiss2017.csv',\n",
    "                    index = False, sep= ' ', encoding='utf-8')\n",
    "swissData2016.to_csv(prefix+'Dropbox (MIT)/HERUS_Lab/Data/Switzerland/keyDataSwiss2016.csv',\n",
    "                    index = False, sep= ' ', encoding='utf-8')\n",
    "swissData2015.to_csv(prefix+'Dropbox (MIT)/HERUS_Lab/Data/Switzerland/keyDataSwiss2015.csv',\n",
    "                    index = False, sep= ' ', encoding='utf-8')\n",
    "swissData2014.to_csv(prefix+'Dropbox (MIT)/HERUS_Lab/Data/Switzerland/keyDataSwiss2014.csv',\n",
    "                    index = False, sep= ' ', encoding='utf-8')\n",
    "swissData2013.to_csv(prefix+'Dropbox (MIT)/HERUS_Lab/Data/Switzerland/keyDataSwiss2013.csv',\n",
    "                    index = False, sep= ' ', encoding='utf-8')\n",
    "swissData2012.to_csv(prefix+'Dropbox (MIT)/HERUS_Lab/Data/Switzerland/keyDataSwiss2012.csv',\n",
    "                    index = False, sep= ' ', encoding='utf-8')"
   ]
  },
  {
   "cell_type": "markdown",
   "metadata": {},
   "source": [
    "## 2.2 Cercle Indicators"
   ]
  },
  {
   "cell_type": "code",
   "execution_count": null,
   "metadata": {
    "collapsed": true
   },
   "outputs": [],
   "source": []
  }
 ],
 "metadata": {
  "kernelspec": {
   "display_name": "Python 2",
   "language": "python",
   "name": "python2"
  },
  "language_info": {
   "codemirror_mode": {
    "name": "ipython",
    "version": 2
   },
   "file_extension": ".py",
   "mimetype": "text/x-python",
   "name": "python",
   "nbconvert_exporter": "python",
   "pygments_lexer": "ipython2",
   "version": "2.7.14"
  }
 },
 "nbformat": 4,
 "nbformat_minor": 2
}
