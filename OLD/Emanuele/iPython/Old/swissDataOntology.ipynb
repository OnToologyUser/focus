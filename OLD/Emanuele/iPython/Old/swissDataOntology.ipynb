{
 "cells": [
  {
   "cell_type": "code",
   "execution_count": 1,
   "metadata": {},
   "outputs": [
    {
     "name": "stdout",
     "output_type": "stream",
     "text": [
      "Populating the interactive namespace from numpy and matplotlib\n"
     ]
    }
   ],
   "source": [
    "%matplotlib inline\n",
    "import warnings\n",
    "warnings.filterwarnings('ignore')\n",
    "%config InlineBackend.figure_format = 'retina'\n",
    "%pylab inline\n",
    "from __future__ import division\n",
    "import rdflib\n",
    "from rdflib.graph import Graph, ConjunctiveGraph\n",
    "from rdflib import Graph, URIRef, BNode, Literal\n",
    "from rdflib import RDF\n",
    "from rdflib import Namespace\n",
    "from rdflib.namespace import OWL, RDF, RDFS, FOAF, XSD\n",
    "from SPARQLWrapper import SPARQLWrapper, JSON\n",
    "import numpy as np\n",
    "import matplotlib.pyplot as plt"
   ]
  },
  {
   "cell_type": "markdown",
   "metadata": {},
   "source": [
    "# Table of Contents\n",
    "* [1. Define Graph](#1.-Define-Graph)\n",
    "* [2. Retrieve Data](#2.-Retrieve-Data)\n",
    "    * [2.1 Country](#2.1-Country)\n",
    "    * [2.2 Cantons](#2.2-Cantons)\n",
    "    * [2.2 Plot Correlation](#2.2-Plot-Correlation)"
   ]
  },
  {
   "cell_type": "markdown",
   "metadata": {},
   "source": [
    "# 1 Define Graph"
   ]
  },
  {
   "cell_type": "code",
   "execution_count": 2,
   "metadata": {},
   "outputs": [
    {
     "data": {
      "text/plain": [
       "<Graph identifier=Nb51ccaf4c860407ca0331502612b92e0 (<class 'rdflib.graph.Graph'>)>"
      ]
     },
     "execution_count": 2,
     "metadata": {},
     "output_type": "execute_result"
    }
   ],
   "source": [
    "g = Graph()\n",
    "\n",
    "schema = rdflib.Namespace('http://schema.org/')\n",
    "time   = rdflib.Namespace('http://www.w3.org/2006/time#')\n",
    "dbo    = rdflib.Namespace('http://dbpedia.org/ontology/')\n",
    "dbp    = rdflib.Namespace('http://dbpedia.org/property/')\n",
    "res    = rdflib.Namespace('http://dbpedia.org/resource/')\n",
    "rdf    = rdflib.Namespace('http://www.w3.org/1999/02/22-rdf-syntax-ns#')\n",
    "rdfs   = rdflib.Namespace('http://www.w3.org/2000/01/rdf-schema#')\n",
    "g.parse(dbo)\n",
    "# Add the OWL data to the graph\n",
    "# g.add((cName, RDF.type, dbo.country))"
   ]
  },
  {
   "cell_type": "code",
   "execution_count": 3,
   "metadata": {
    "collapsed": true
   },
   "outputs": [],
   "source": [
    "g.add(( res['Switzerland'], RDF.type, dbo.Country))"
   ]
  },
  {
   "cell_type": "markdown",
   "metadata": {},
   "source": [
    "# 2 Retrieve Data"
   ]
  },
  {
   "cell_type": "markdown",
   "metadata": {},
   "source": [
    "## 2.1 Country"
   ]
  },
  {
   "cell_type": "code",
   "execution_count": 4,
   "metadata": {
    "collapsed": true
   },
   "outputs": [],
   "source": [
    "sparql = SPARQLWrapper(\"http://dbpedia.org/sparql\")\n",
    "query = \"\"\"\n",
    "    PREFIX dbo:  <http://dbpedia.org/ontology/>\n",
    "    PREFIX dbpedia: <http://dbpedia.org/resource/>\n",
    "    PREFIX dbp: <http://dbpedia.org/property/>\n",
    "    PREFIX geo: <http://www.w3.org/2003/01/geo/wgs84_pos#>\n",
    "    SELECT DISTINCT  ?s ?pop ?code\n",
    "    WHERE{ \n",
    "       ?s rdf:type dbo:PopulatedPlace.\n",
    "       ?s geo:lat ?lat.\n",
    "       ?s geo:lat ?lon.\n",
    "       ?s dbo:populationTotal ?pop.\n",
    "       ?s geo:geometry ?geom.\n",
    "       ?s dbp:iso3166code ?code.\n",
    "       FILTER (?s = dbpedia:Switzerland)\n",
    "    }\n",
    "\"\"\"\n",
    "sparql.setQuery(query)\n",
    "sparql.setReturnFormat(JSON)\n",
    "results = sparql.query().convert()"
   ]
  },
  {
   "cell_type": "code",
   "execution_count": 9,
   "metadata": {
    "collapsed": true
   },
   "outputs": [],
   "source": [
    "sparql = SPARQLWrapper(\"http://dbpedia.org/sparql\")\n",
    "query = \"\"\"\n",
    "    PREFIX dbo: <http://dbpedia.org/ontology/>\n",
    "    PREFIX dbr: <http://dbpedia.org/resource/>\n",
    "    SELECT ?s WHERE {\n",
    "     ?s a dbo:City ;\n",
    "        dbo:country dbr:Switzerland\n",
    "    }\n",
    "\"\"\"\n",
    "sparql.setQuery(query)\n",
    "sparql.setReturnFormat(JSON)\n",
    "results = sparql.query().convert()"
   ]
  },
  {
   "cell_type": "code",
   "execution_count": 10,
   "metadata": {},
   "outputs": [
    {
     "name": "stdout",
     "output_type": "stream",
     "text": [
      "http://dbpedia.org/resource/Lausanne\n",
      "http://dbpedia.org/resource/Uster\n",
      "http://dbpedia.org/resource/Biel/Bienne\n",
      "http://dbpedia.org/resource/Burgdorf,_Switzerland\n",
      "http://dbpedia.org/resource/Lucerne\n",
      "http://dbpedia.org/resource/Lugano\n",
      "http://dbpedia.org/resource/Schaffhausen\n",
      "http://dbpedia.org/resource/Thun\n",
      "http://dbpedia.org/resource/Winterthur\n",
      "http://dbpedia.org/resource/Dietikon\n",
      "http://dbpedia.org/resource/La_Chaux-de-Fonds\n",
      "http://dbpedia.org/resource/Zofingen\n",
      "http://dbpedia.org/resource/Emmen,_Switzerland\n",
      "http://dbpedia.org/resource/Steinhausen,_Switzerland\n",
      "http://dbpedia.org/resource/Zürich\n"
     ]
    }
   ],
   "source": [
    "for result in results[\"results\"][\"bindings\"]:\n",
    "    print result[\"s\"][\"value\"]"
   ]
  },
  {
   "cell_type": "code",
   "execution_count": 5,
   "metadata": {
    "collapsed": true
   },
   "outputs": [],
   "source": [
    "for result in results[\"results\"][\"bindings\"]:\n",
    "    N = int(result[\"pop\"][\"value\"])"
   ]
  },
  {
   "cell_type": "code",
   "execution_count": 6,
   "metadata": {},
   "outputs": [
    {
     "data": {
      "text/plain": [
       "8341000"
      ]
     },
     "execution_count": 6,
     "metadata": {},
     "output_type": "execute_result"
    }
   ],
   "source": [
    "N"
   ]
  },
  {
   "cell_type": "code",
   "execution_count": 7,
   "metadata": {
    "collapsed": true
   },
   "outputs": [],
   "source": [
    "for result in results[\"results\"][\"bindings\"]:\n",
    "    N = int(result[\"pop\"][\"value\"])\n",
    "totPopulation   = Literal(N)\n",
    "g.add(( res['Switzerland'], dbo.populationTotal, totPopulation ))\n",
    "g.add(( res['Switzerland'], dbp.iso3166code, Literal(str(result[\"code\"][\"value\"])) ))"
   ]
  },
  {
   "cell_type": "code",
   "execution_count": null,
   "metadata": {
    "collapsed": true
   },
   "outputs": [],
   "source": [
    "g.serialize(destination='outputProva.nt', format='nt')"
   ]
  },
  {
   "cell_type": "markdown",
   "metadata": {},
   "source": [
    "## 2.2 Cantons"
   ]
  },
  {
   "cell_type": "code",
   "execution_count": 8,
   "metadata": {
    "collapsed": true
   },
   "outputs": [],
   "source": [
    "### Retrieve data from Official Statistical office\n",
    "### Retrieve Information Of Cantons\n",
    "sparql = SPARQLWrapper(\"https://sparql.geo.admin.ch/sparql\")\n",
    "query = \"\"\"\n",
    "PREFIX schema: <http://schema.org/>\n",
    "PREFIX gn: <http://www.geonames.org/ontology#>\n",
    "PREFIX geo: <http://www.opengis.net/ont/geosparql#>\n",
    "select ?Canton ?Population ?Coords ?cantonName ?bfsNumber\n",
    "where\n",
    "{\n",
    "    ?Canton a gn:A.ADM1 .\n",
    "    ?Canton schema:name ?cantonName .\n",
    "    ?Canton gn:population ?Population .\n",
    "    ?Canton geo:hasGeometry ?Geometry .\n",
    "    ?Geometry geo:asWKT ?Coords.\n",
    "    ?Canton <https://ld.geo.admin.ch/def/bfsNumber> ?bfsNumber.\n",
    "    ?Canton <http://purl.org/dc/terms/issued> ?Date .\n",
    "    FILTER (?Date = \"2016-01-01\"^^xsd:date)\n",
    "}\n",
    "ORDER BY DESC(?Population)\n",
    "\"\"\"\n",
    "sparql.setQuery(query)\n",
    "sparql.setReturnFormat(JSON)\n",
    "results = sparql.query().convert()"
   ]
  },
  {
   "cell_type": "code",
   "execution_count": null,
   "metadata": {
    "collapsed": true
   },
   "outputs": [],
   "source": [
    "\n",
    "g.add((tmp, RDF.type, dbo.Canton ))"
   ]
  },
  {
   "cell_type": "code",
   "execution_count": 10,
   "metadata": {},
   "outputs": [
    {
     "ename": "AssertionError",
     "evalue": "Subject https://ld.geo.admin.ch/boundaries/canton/1:2016 must be an rdflib term",
     "output_type": "error",
     "traceback": [
      "\u001b[1;31m---------------------------------------------------------------------------\u001b[0m",
      "\u001b[1;31mAssertionError\u001b[0m                            Traceback (most recent call last)",
      "\u001b[1;32m<ipython-input-10-90c22603c3b3>\u001b[0m in \u001b[0;36m<module>\u001b[1;34m()\u001b[0m\n\u001b[0;32m      2\u001b[0m \u001b[1;32mfor\u001b[0m \u001b[0mresult\u001b[0m \u001b[1;32min\u001b[0m \u001b[0mresults\u001b[0m\u001b[1;33m[\u001b[0m\u001b[1;34m\"results\"\u001b[0m\u001b[1;33m]\u001b[0m\u001b[1;33m[\u001b[0m\u001b[1;34m\"bindings\"\u001b[0m\u001b[1;33m]\u001b[0m\u001b[1;33m:\u001b[0m\u001b[1;33m\u001b[0m\u001b[0m\n\u001b[0;32m      3\u001b[0m     \u001b[0mtmp\u001b[0m \u001b[1;33m=\u001b[0m \u001b[0mresult\u001b[0m\u001b[1;33m[\u001b[0m\u001b[1;34m\"Canton\"\u001b[0m\u001b[1;33m]\u001b[0m\u001b[1;33m[\u001b[0m\u001b[1;34m'value'\u001b[0m\u001b[1;33m]\u001b[0m\u001b[1;33m\u001b[0m\u001b[0m\n\u001b[1;32m----> 4\u001b[1;33m     \u001b[0mg\u001b[0m\u001b[1;33m.\u001b[0m\u001b[0madd\u001b[0m\u001b[1;33m(\u001b[0m\u001b[1;33m(\u001b[0m\u001b[0mtmp\u001b[0m\u001b[1;33m,\u001b[0m \u001b[0mRDF\u001b[0m\u001b[1;33m.\u001b[0m\u001b[0mtype\u001b[0m\u001b[1;33m,\u001b[0m \u001b[0mdbo\u001b[0m\u001b[1;33m.\u001b[0m\u001b[0mCanton\u001b[0m \u001b[1;33m)\u001b[0m\u001b[1;33m)\u001b[0m\u001b[1;33m\u001b[0m\u001b[0m\n\u001b[0m",
      "\u001b[1;32mC:\\Users\\massaro\\Anaconda2\\lib\\site-packages\\rdflib\\graph.pyc\u001b[0m in \u001b[0;36madd\u001b[1;34m(self, (s, p, o))\u001b[0m\n\u001b[0;32m    389\u001b[0m         \u001b[1;34m\"\"\"Add a triple with self as context\"\"\"\u001b[0m\u001b[1;33m\u001b[0m\u001b[0m\n\u001b[0;32m    390\u001b[0m         \u001b[1;32massert\u001b[0m \u001b[0misinstance\u001b[0m\u001b[1;33m(\u001b[0m\u001b[0ms\u001b[0m\u001b[1;33m,\u001b[0m \u001b[0mNode\u001b[0m\u001b[1;33m)\u001b[0m\u001b[1;33m,\u001b[0m\u001b[0;31m \u001b[0m\u001b[0;31m\\\u001b[0m\u001b[1;33m\u001b[0m\u001b[0m\n\u001b[1;32m--> 391\u001b[1;33m             \u001b[1;34m\"Subject %s must be an rdflib term\"\u001b[0m \u001b[1;33m%\u001b[0m \u001b[1;33m(\u001b[0m\u001b[0ms\u001b[0m\u001b[1;33m,\u001b[0m\u001b[1;33m)\u001b[0m\u001b[1;33m\u001b[0m\u001b[0m\n\u001b[0m\u001b[0;32m    392\u001b[0m         \u001b[1;32massert\u001b[0m \u001b[0misinstance\u001b[0m\u001b[1;33m(\u001b[0m\u001b[0mp\u001b[0m\u001b[1;33m,\u001b[0m \u001b[0mNode\u001b[0m\u001b[1;33m)\u001b[0m\u001b[1;33m,\u001b[0m\u001b[0;31m \u001b[0m\u001b[0;31m\\\u001b[0m\u001b[1;33m\u001b[0m\u001b[0m\n\u001b[0;32m    393\u001b[0m             \u001b[1;34m\"Predicate %s must be an rdflib term\"\u001b[0m \u001b[1;33m%\u001b[0m \u001b[1;33m(\u001b[0m\u001b[0mp\u001b[0m\u001b[1;33m,\u001b[0m\u001b[1;33m)\u001b[0m\u001b[1;33m\u001b[0m\u001b[0m\n",
      "\u001b[1;31mAssertionError\u001b[0m: Subject https://ld.geo.admin.ch/boundaries/canton/1:2016 must be an rdflib term"
     ]
    }
   ],
   "source": [
    "c = 0\n",
    "for result in results[\"results\"][\"bindings\"]:\n",
    "    tmp = result[\"Canton\"]['value']\n",
    "    uri = \n",
    "    g.add((tmp, RDF.type, dbo.Canton ))"
   ]
  },
  {
   "cell_type": "code",
   "execution_count": null,
   "metadata": {
    "collapsed": true
   },
   "outputs": [],
   "source": [
    "c = 0\n",
    "for result in results[\"results\"][\"bindings\"]:\n",
    "    c = c + 1\n",
    "    #tmp = Literal(c)\n",
    "    #g.add((tmp, RDF.type, dbo.Canton))\n",
    "    #pop = int(result[\"Population\"][\"value\"])\n",
    "    #pop = Literal(pop)\n",
    "    #g.add((tmp, dbo.populationTotal, pop ))"
   ]
  },
  {
   "cell_type": "code",
   "execution_count": null,
   "metadata": {
    "collapsed": true
   },
   "outputs": [],
   "source": [
    "g.serialize(destination='outputProva.nt', format='nt')"
   ]
  },
  {
   "cell_type": "code",
   "execution_count": null,
   "metadata": {
    "collapsed": true
   },
   "outputs": [],
   "source": [
    "result[\"cantonName\"][\"value\"]"
   ]
  },
  {
   "cell_type": "code",
   "execution_count": null,
   "metadata": {
    "collapsed": true
   },
   "outputs": [],
   "source": []
  },
  {
   "cell_type": "code",
   "execution_count": null,
   "metadata": {
    "collapsed": true
   },
   "outputs": [],
   "source": [
    "for result in results[\"results\"][\"bindings\"]:\n",
    "    g.add((result[\"Canton\"], RDF.type, dbo.Canton ))\n",
    "    print result[\"cantonName\"]"
   ]
  },
  {
   "cell_type": "code",
   "execution_count": null,
   "metadata": {
    "collapsed": true
   },
   "outputs": [],
   "source": [
    "result[\"Canton\"]"
   ]
  },
  {
   "cell_type": "code",
   "execution_count": null,
   "metadata": {
    "collapsed": true
   },
   "outputs": [],
   "source": []
  },
  {
   "cell_type": "code",
   "execution_count": null,
   "metadata": {
    "collapsed": true
   },
   "outputs": [],
   "source": []
  },
  {
   "cell_type": "code",
   "execution_count": null,
   "metadata": {
    "collapsed": true
   },
   "outputs": [],
   "source": []
  },
  {
   "cell_type": "code",
   "execution_count": null,
   "metadata": {
    "collapsed": true
   },
   "outputs": [],
   "source": []
  },
  {
   "cell_type": "code",
   "execution_count": null,
   "metadata": {
    "collapsed": true
   },
   "outputs": [],
   "source": []
  },
  {
   "cell_type": "code",
   "execution_count": null,
   "metadata": {
    "collapsed": true
   },
   "outputs": [],
   "source": [
    "g.parse(\"http://dbpedia.org/\")\n",
    "\n",
    "qres = g.query(\n",
    "    \"\"\"    \n",
    "    PREFIX dbo:  <http://dbpedia.org/ontology/>\n",
    "    PREFIX dbpedia: <http://dbpedia.org/resource/>\n",
    "    PREFIX dbp: <http://dbpedia.org/property/>\n",
    "    PREFIX geo: <http://www.w3.org/2003/01/geo/wgs84_pos#>\n",
    "    SELECT DISTINCT  ?s ?pop ?code\n",
    "    WHERE{ \n",
    "       ?s rdf:type dbo:PopulatedPlace.\n",
    "       ?s geo:lat ?lat.\n",
    "       ?s geo:lat ?lon.\n",
    "       ?s dbo:populationTotal ?pop.\n",
    "       ?s geo:geometry ?geom.\n",
    "       ?s dbp:iso3166code ?code.\n",
    "       FILTER (?s = dbpedia:Switzerland)\n",
    "    }\"\"\")"
   ]
  },
  {
   "cell_type": "code",
   "execution_count": null,
   "metadata": {
    "collapsed": true
   },
   "outputs": [],
   "source": [
    "for row in qres:\n",
    "    print(\"%s %s %s\" %row)\n"
   ]
  },
  {
   "cell_type": "code",
   "execution_count": null,
   "metadata": {
    "collapsed": true
   },
   "outputs": [],
   "source": [
    "qres"
   ]
  },
  {
   "cell_type": "code",
   "execution_count": null,
   "metadata": {
    "collapsed": true
   },
   "outputs": [],
   "source": []
  },
  {
   "cell_type": "code",
   "execution_count": null,
   "metadata": {
    "collapsed": true
   },
   "outputs": [],
   "source": [
    "sparql = SPARQLWrapper(\"http://dbpedia.org/sparql\")\n",
    "query = \"\"\"\n",
    "    PREFIX dbo:  <http://dbpedia.org/ontology/>\n",
    "    PREFIX dbpedia: <http://dbpedia.org/resource/>\n",
    "    PREFIX dbp: <http://dbpedia.org/property/>\n",
    "    PREFIX geo: <http://www.w3.org/2003/01/geo/wgs84_pos#>\n",
    "    SELECT DISTINCT  ?s ?pop ?code\n",
    "    WHERE{ \n",
    "       ?s rdf:type dbo:PopulatedPlace.\n",
    "       ?s geo:lat ?lat.\n",
    "       ?s geo:lat ?lon.\n",
    "       ?s dbo:populationTotal ?pop.\n",
    "       ?s geo:geometry ?geom.\n",
    "       ?s dbp:iso3166code ?code.\n",
    "       FILTER (?s = dbpedia:Switzerland)\n",
    "    }\n",
    "\"\"\"\n",
    "sparql.setQuery(query)\n",
    "sparql.setReturnFormat(JSON)\n",
    "#results = sparql.query().convert()"
   ]
  },
  {
   "cell_type": "code",
   "execution_count": null,
   "metadata": {
    "collapsed": true
   },
   "outputs": [],
   "source": [
    "for result in results[\"results\"][\"bindings\"]:\n",
    "    print result[\"s\"][\"value\"], result[\"pop\"][\"value\"]"
   ]
  },
  {
   "cell_type": "code",
   "execution_count": null,
   "metadata": {
    "collapsed": true
   },
   "outputs": [],
   "source": [
    "N = int(results[\"pop\"][\"value\"])\n",
    "totPopulation   = Literal(N)\n",
    "g.add(( cName, dbo.populationTotal, totPopulation ))\n",
    "g.add(( cName, dbp.iso3166code, Literal(str(result[\"code\"][\"value\"])) ))"
   ]
  },
  {
   "cell_type": "code",
   "execution_count": null,
   "metadata": {
    "collapsed": true
   },
   "outputs": [],
   "source": [
    "g.serialize(destination='outputProva.nt', format='nt')"
   ]
  },
  {
   "cell_type": "markdown",
   "metadata": {},
   "source": [
    "## 2.2 Cantons"
   ]
  },
  {
   "cell_type": "code",
   "execution_count": null,
   "metadata": {
    "collapsed": true
   },
   "outputs": [],
   "source": [
    "### Retrieve data from Official Statistical office\n",
    "### Retrieve Information Of Cantons\n",
    "sparql = SPARQLWrapper(\"https://sparql.geo.admin.ch/sparql\")\n",
    "query = \"\"\"\n",
    "PREFIX schema: <http://schema.org/>\n",
    "PREFIX gn: <http://www.geonames.org/ontology#>\n",
    "PREFIX geo: <http://www.opengis.net/ont/geosparql#>\n",
    "select ?Canton ?Population ?Coords ?cantonName ?bfsNumber\n",
    "where\n",
    "{\n",
    "    ?Canton a gn:A.ADM1 .\n",
    "    ?Canton schema:name ?cantonName .\n",
    "    ?Canton gn:population ?Population .\n",
    "    ?Canton geo:hasGeometry ?Geometry .\n",
    "    ?Geometry geo:asWKT ?Coords.\n",
    "    ?Canton <https://ld.geo.admin.ch/def/bfsNumber> ?bfsNumber.\n",
    "    ?Canton <http://purl.org/dc/terms/issued> ?Date .\n",
    "    FILTER (?Date = \"2016-01-01\"^^xsd:date)\n",
    "}\n",
    "ORDER BY DESC(?Population)\n",
    "\"\"\"\n",
    "sparql.setQuery(query)\n",
    "sparql.setReturnFormat(JSON)\n",
    "results = sparql.query().convert()"
   ]
  },
  {
   "cell_type": "code",
   "execution_count": null,
   "metadata": {
    "collapsed": true
   },
   "outputs": [],
   "source": [
    "fig,ax = plt.subplots(figsize=(10,10))\n",
    "ax.bar(result[\"cantonName\"][\"value\"], result[\"Population\"][\"value\"], align='center', alpha=0.5)\n"
   ]
  },
  {
   "cell_type": "code",
   "execution_count": null,
   "metadata": {
    "collapsed": true
   },
   "outputs": [],
   "source": [
    "for result in results[\"results\"][\"bindings\"]:\n",
    "    print result[\"Population\"][\"value\"], result[\"cantonName\"][\"value\"], result[\"bfsNumber\"][\"value\"]"
   ]
  },
  {
   "cell_type": "code",
   "execution_count": null,
   "metadata": {
    "collapsed": true
   },
   "outputs": [],
   "source": []
  },
  {
   "cell_type": "code",
   "execution_count": null,
   "metadata": {
    "collapsed": true
   },
   "outputs": [],
   "source": [
    "### Retrieve data from Official Statistical office\n",
    "### Retrieve Information Of Municipality\n",
    "sparql = SPARQLWrapper(\"https://sparql.geo.admin.ch/sparql\")\n",
    "query = \"\"\"\n",
    "PREFIX schema: <http://schema.org/>\n",
    "PREFIX gn: <http://www.geonames.org/ontology#>\n",
    "PREFIX geo: <http://www.opengis.net/ont/geosparql#>\n",
    "select ?Municipality ?Name ?Population ?Coords ?Canton ?cantonName\n",
    "where\n",
    "{\n",
    "    ?Municipality a gn:A.ADM3 .\n",
    "    ?Municipality schema:name ?Name .\n",
    "    ?Municipality gn:population ?Population .\n",
    "    ?Municipality geo:hasGeometry ?Geometry .\n",
    "    ?Geometry geo:asWKT ?Coords. \n",
    "    ?Municipality gn:parentADM1 ?Canton .\n",
    "    ?Canton schema:name ?cantonName .\n",
    "    ?Municipality <http://purl.org/dc/terms/issued> ?Date .\n",
    "    ?Municipality <https://ld.geo.admin.ch/def/bfsNumber> ?bfsNumber . #connect to the ?bfsNumber found in wikidata.\n",
    "    FILTER (?Date = \"2017-01-01\"^^xsd:date)\n",
    "}\n",
    "LIMIT 5\n",
    "\"\"\"\n",
    "sparql.setQuery(query)\n",
    "sparql.setReturnFormat(JSON)\n",
    "results = sparql.query().convert()"
   ]
  },
  {
   "cell_type": "code",
   "execution_count": null,
   "metadata": {
    "collapsed": true
   },
   "outputs": [],
   "source": [
    "for result in results[\"results\"][\"bindings\"]:\n",
    "    print result[\"Name\"][\"value\"]"
   ]
  },
  {
   "cell_type": "code",
   "execution_count": null,
   "metadata": {
    "collapsed": true
   },
   "outputs": [],
   "source": []
  },
  {
   "cell_type": "code",
   "execution_count": null,
   "metadata": {
    "collapsed": true
   },
   "outputs": [],
   "source": []
  },
  {
   "cell_type": "code",
   "execution_count": null,
   "metadata": {
    "collapsed": true
   },
   "outputs": [],
   "source": []
  },
  {
   "cell_type": "code",
   "execution_count": null,
   "metadata": {
    "collapsed": true
   },
   "outputs": [],
   "source": []
  },
  {
   "cell_type": "code",
   "execution_count": null,
   "metadata": {
    "collapsed": true
   },
   "outputs": [],
   "source": [
    "### Retrieve data from Official Statistical office\n",
    "### Retrieve Information Of Municipality\n",
    "sparql = SPARQLWrapper(\"https://sparql.geo.admin.ch/sparql\")\n",
    "query = \"\"\"\n",
    "PREFIX schema: <http://schema.org/>\n",
    "PREFIX gn: <http://www.geonames.org/ontology#>\n",
    "PREFIX geo: <http://www.opengis.net/ont/geosparql#>\n",
    "select ?Municipality ?Name ?Population ?Coords ?Canton ?cantonName\n",
    "where\n",
    "{\n",
    "    ?Municipality a gn:A.ADM3 .\n",
    "    ?Municipality schema:name ?Name .\n",
    "    ?Municipality gn:population ?Population .\n",
    "    ?Municipality geo:hasGeometry ?Geometry .\n",
    "    ?Geometry geo:asWKT ?Coords. \n",
    "    ?Municipality gn:parentADM1 ?Canton .\n",
    "    ?Canton schema:name ?cantonName .\n",
    "    ?Municipality <http://purl.org/dc/terms/issued> ?Date .\n",
    "    ?Municipality <https://ld.geo.admin.ch/def/bfsNumber> ?bfsNumber . #connect to the ?bfsNumber found in wikidata.\n",
    "    FILTER (?Date = \"2017-01-01\"^^xsd:date)\n",
    "}\n",
    "LIMIT 5\n",
    "\"\"\"\n",
    "sparql.setQuery(query)\n",
    "sparql.setReturnFormat(JSON)"
   ]
  },
  {
   "cell_type": "code",
   "execution_count": null,
   "metadata": {
    "collapsed": true
   },
   "outputs": [],
   "source": []
  },
  {
   "cell_type": "code",
   "execution_count": null,
   "metadata": {
    "collapsed": true
   },
   "outputs": [],
   "source": []
  },
  {
   "cell_type": "code",
   "execution_count": null,
   "metadata": {
    "collapsed": true
   },
   "outputs": [],
   "source": []
  },
  {
   "cell_type": "code",
   "execution_count": null,
   "metadata": {
    "collapsed": true
   },
   "outputs": [],
   "source": []
  },
  {
   "cell_type": "code",
   "execution_count": null,
   "metadata": {
    "collapsed": true
   },
   "outputs": [],
   "source": [
    "results = sparql.query().convert()"
   ]
  },
  {
   "cell_type": "code",
   "execution_count": null,
   "metadata": {
    "collapsed": true
   },
   "outputs": [],
   "source": [
    "for result in results[\"results\"][\"bindings\"]:\n",
    "    print result[\"Name\"][\"value\"], result[\"Population\"][\"value\"], result[\"cantonName\"][\"value\"]"
   ]
  },
  {
   "cell_type": "code",
   "execution_count": null,
   "metadata": {
    "collapsed": true
   },
   "outputs": [],
   "source": [
    "### Retrieve data from Official Statistical office\n",
    "### Retrieve Information Of Municipality\n",
    "sparql = SPARQLWrapper(\"https://sparql.geo.admin.ch/sparql\")\n",
    "query = \"\"\"\n",
    "PREFIX rdf: <http://www.w3.org/1999/02/22-rdf-syntax-ns#>\n",
    "PREFIX rdfs: <http://www.w3.org/2000/01/rdf-schema#>\n",
    "PREFIX wdt: <http://www.wikidata.org/prop/direct/>\n",
    "PREFIX wikibase: <http://wikiba.se/ontology#>\n",
    "PREFIX skos: <http://www.w3.org/2004/02/skos/core#>\n",
    "PREFIX xsd: <http://www.w3.org/2001/XMLSchema#>\n",
    "PREFIX wd: <http://www.wikidata.org/entity/>\n",
    "PREFIX fn: <http://www.w3.org/2005/xpath-functions#>\n",
    "PREFIX schema: <http://schema.org/>\n",
    "PREFIX gn: <http://www.geonames.org/ontology#>\n",
    "PREFIX geo: <http://www.opengis.net/ont/geosparql#>\n",
    "\n",
    "SELECT ?Municipality ?Name  ?zipCode \n",
    "WHERE {\n",
    "    ?Municipality a schema:AdministrativeArea . #specify only the non-versioned entries.\n",
    "    ?Municipality schema:name ?Name .\n",
    "    ?Municipality a gn:A.ADM3 . #municipality only\n",
    "    #?Municipality gn:population ?Population .    \n",
    "    #?Municipality <http://purl.org/dc/terms/issued> ?Date .\n",
    "    #FILTER (?Date = \"2017-01-01\"^^xsd:date)\n",
    "    ?Municipality geo:hasGeometry ?Geometry .\n",
    "    ?Municipality <https://ld.geo.admin.ch/def/bfsNumber> ?bfsNumber . #connect to the ?bfsNumber found in wikidata.\n",
    "    {\n",
    "    SELECT DISTINCT (xsd:integer(?bfs) AS ?bfsNumber) ?WikidataURI ?GeoNamesURI ?zipCode WHERE {\n",
    "    SERVICE <https://query.wikidata.org/bigdata/namespace/wdq/sparql>\n",
    "    {\n",
    "        ?WikidataURI wdt:P771 ?bfs . #look for bfs number in WD\n",
    "        ?WikidataURI wdt:P31 wd:Q70208 . #municipality of Switzerland\n",
    "        ?WikidataURI wdt:P1566 ?GeoNamesId . \n",
    "        ?WikidataURI wdt:P281 ?zipCode . \n",
    "    }\n",
    "      BIND(IRI(CONCAT(STR(\"http://sws.geonames.org/\"), ?GeoNamesId, \"/\")) AS ?GeoNamesURI)\n",
    "    }\n",
    "  }\n",
    "}\n",
    "ORDER BY ?Name\n",
    "\"\"\"\n",
    "sparql.setQuery(query)\n",
    "sparql.setReturnFormat(JSON)"
   ]
  },
  {
   "cell_type": "code",
   "execution_count": null,
   "metadata": {
    "collapsed": true
   },
   "outputs": [],
   "source": [
    "results = sparql.query().convert()"
   ]
  },
  {
   "cell_type": "code",
   "execution_count": null,
   "metadata": {
    "collapsed": true
   },
   "outputs": [],
   "source": [
    "for result in results[\"results\"][\"bindings\"]:\n",
    "    print result[\"Name\"][\"value\"], result[\"zipCode\"][\"value\"]"
   ]
  },
  {
   "cell_type": "code",
   "execution_count": null,
   "metadata": {
    "collapsed": true
   },
   "outputs": [],
   "source": []
  }
 ],
 "metadata": {
  "anaconda-cloud": {},
  "kernelspec": {
   "display_name": "Python 2",
   "language": "python",
   "name": "python2"
  },
  "language_info": {
   "codemirror_mode": {
    "name": "ipython",
    "version": 2
   },
   "file_extension": ".py",
   "mimetype": "text/x-python",
   "name": "python",
   "nbconvert_exporter": "python",
   "pygments_lexer": "ipython2",
   "version": "2.7.14"
  }
 },
 "nbformat": 4,
 "nbformat_minor": 2
}
