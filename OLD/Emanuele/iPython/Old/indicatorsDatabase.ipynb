{
 "cells": [
  {
   "cell_type": "code",
   "execution_count": 3,
   "metadata": {},
   "outputs": [
    {
     "name": "stdout",
     "output_type": "stream",
     "text": [
      "Populating the interactive namespace from numpy and matplotlib\n"
     ]
    }
   ],
   "source": [
    "import warnings\n",
    "warnings.filterwarnings('ignore')\n",
    "from __future__ import division\n",
    "import glob\n",
    "%config InlineBackend.figure_format = 'retina'\n",
    "%pylab inline\n",
    "\n",
    "import numpy as np\n",
    "import pandas as pd\n",
    "\n",
    "from textblob import TextBlob\n",
    "from textblob_de import TextBlobDE\n",
    "import goslate\n",
    "\n",
    "from sys import platform\n",
    "if platform == \"linux\" or platform == \"linux2\":\n",
    "    prefix = \"/home/massaro/\"\n",
    "elif platform == \"darwin\":\n",
    "    prefix = \"/Users/emanuele/\""
   ]
  },
  {
   "cell_type": "code",
   "execution_count": 4,
   "metadata": {
    "collapsed": true
   },
   "outputs": [],
   "source": [
    "tmpFolder = 'Dropbox (MIT)/HERUS_Lab/SwissDateset/indicators/'\n",
    "dfTmp = pd.read_csv(prefix + tmpFolder + 'swissCitiesIndicators.csv')\n",
    "dfTmp.columns = ['name', 'year']\n",
    "dfTmp['spatialLevel'] = 'city'\n"
   ]
  },
  {
   "cell_type": "code",
   "execution_count": 5,
   "metadata": {
    "collapsed": true
   },
   "outputs": [],
   "source": [
    "#Merge data\n",
    "swissIndicatorsCities = glob.glob(prefix+tmpFolder+'./*.xls') ### Find Files in the folder"
   ]
  },
  {
   "cell_type": "code",
   "execution_count": 4,
   "metadata": {},
   "outputs": [
    {
     "data": {
      "text/plain": [
       "'/Users/emanuele/Dropbox (MIT)/HERUS_Lab/SwissDateset/indicators/./G10-Integration-Einbuergerungen-von-AuslaenderInnen-deDE.xls'"
      ]
     },
     "execution_count": 4,
     "metadata": {},
     "output_type": "execute_result"
    }
   ],
   "source": [
    "swissIndicatorsCities[0]"
   ]
  },
  {
   "cell_type": "code",
   "execution_count": 5,
   "metadata": {
    "collapsed": true
   },
   "outputs": [],
   "source": [
    "for i in range(0, len(swissIndicatorsCities)):\n",
    "    if i == 29: continue\n",
    "    indTmp = pd.read_excel(swissIndicatorsCities[i])\n",
    "    tt = swissIndicatorsCities[i].split('./',9)\n",
    "    tt = tt[1].split('.',1)\n",
    "    #A = gs.translate(tt[0], 'en')\n",
    "    b = TextBlob(tt[0])\n",
    "    A = b.translate(to='en')\n",
    "    A = str(A)\n",
    "    indTmp = indTmp[ (indTmp.index > 10) & (indTmp.index < 31) ]\n",
    "    indTmp = indTmp.rename(columns=indTmp.iloc[0])\n",
    "    indTmp = indTmp[indTmp.index > 12]\n",
    "    indTmp = indTmp.reset_index(drop=True)\n",
    "    indTmp = indTmp.rename(columns = {'Erhebung Cercle Indicateurs':'name'})\n",
    "    tmp    = indTmp.rename_axis('year', 1).set_index('name').stack().reset_index(name=A)\n",
    "    tmp[['year']] = tmp[['year']].astype(int)\n",
    "    dfTmp  = dfTmp.merge(tmp, on=['name', 'year'], how='outer')"
   ]
  },
  {
   "cell_type": "code",
   "execution_count": 6,
   "metadata": {
    "collapsed": true
   },
   "outputs": [],
   "source": [
    "indicatorsName = []\n",
    "indicatorsName.append(['naturalizationOfForeigners', \n",
    "                      'regionalSolidarityReliefEfforts', \n",
    "                      'mobilityAccesToPublicTransportation',\n",
    "                      'potentiallyLostOfLifePerYears'])\n",
    "dfTmp.columns.values[3:7] = indicatorsName[0]"
   ]
  },
  {
   "cell_type": "code",
   "execution_count": 7,
   "metadata": {
    "collapsed": true
   },
   "outputs": [],
   "source": [
    "dfTmp[['year']] = dfTmp[['year']].astype(int) \n",
    "dfSwissCities = dfTmp ## Swiss Cities"
   ]
  },
  {
   "cell_type": "code",
   "execution_count": 8,
   "metadata": {},
   "outputs": [
    {
     "data": {
      "text/plain": [
       "Index([u'name', u'year', u'spatialLevel', u'naturalizationOfForeigners',\n",
       "       u'regionalSolidarityReliefEfforts',\n",
       "       u'mobilityAccesToPublicTransportation',\n",
       "       u'potentiallyLostOfLifePerYears',\n",
       "       u'G4 Security Einbruchdiebstaehle-deDE',\n",
       "       u'G4 Security Strassenverkehrsunfaelle-to-person damages-deDE',\n",
       "       u'G5-income taxpayers Vermoegensverteilung-to-low-income deDE',\n",
       "       u'G6 participation voting and turnout-deDE',\n",
       "       u'G7 cultural and recreational cultural and leisure spending deDE',\n",
       "       u'G9-Social-support-recipients-inside-of-social assistance-deDE',\n",
       "       u'U1-biodiversity-breeding bird index City deDE',\n",
       "       u'U11 Air Quality Long-Term Stress Index deDE',\n",
       "       u'U2 Nature and landscape-Area-valuable-Naturraeume-deDE',\n",
       "       u'U3 energy-quality renewable power-deDE',\n",
       "       u'U4-energy-consumption-deDE',\n",
       "       u'U5-climate greenhouse gas emissions-deDE',\n",
       "       u'U6 raw material consumption-waste-per-inhabitant in-deDE',\n",
       "       u'U6 raw material consumption Separately collection rate-deDE',\n",
       "       u'U7-water household water drain-via-WWTPs-deDE',\n",
       "       u'U8-water quality-effluent load-to-ARA deDE',\n",
       "       u'U9-land use-built over-Area-deDE',\n",
       "       u'W1 income-Average-taxable income-natural-person deDE',\n",
       "       u'W11-tax-tax burden-of-natural-person deDE',\n",
       "       u'W2-life cost-Rates-deDE', u'W3-employment-unemployment-deDE',\n",
       "       u'W4 investments Tag and-maintenance work-deDE',\n",
       "       u'W5-true costs application-des-pays principle-deDE',\n",
       "       u'W7 innovations Busy-in-innovative-industry deDE',\n",
       "       u'W8-economic structure-employed-in-Industry with High-labor productivity-deDE'],\n",
       "      dtype='object')"
      ]
     },
     "execution_count": 8,
     "metadata": {},
     "output_type": "execute_result"
    }
   ],
   "source": [
    "dfSwissCities.columns"
   ]
  },
  {
   "cell_type": "code",
   "execution_count": 6,
   "metadata": {
    "collapsed": true
   },
   "outputs": [],
   "source": [
    "tmpFolder = 'Dropbox (MIT)/HERUS_Lab/SwissDateset/municipalityData/'\n",
    "dfTmp = pd.read_csv(prefix + tmpFolder + 'ageClass.csv', sep=';')"
   ]
  },
  {
   "cell_type": "code",
   "execution_count": 7,
   "metadata": {
    "collapsed": true
   },
   "outputs": [],
   "source": [
    "mapping = pd.read_csv(prefix + tmpFolder + 'mapping.csv', sep=';')"
   ]
  },
  {
   "cell_type": "code",
   "execution_count": 29,
   "metadata": {
    "collapsed": true
   },
   "outputs": [],
   "source": [
    "keyData = pd.read_csv(prefix + tmpFolder + 'keyData2017.csv', sep=' ')\n",
    "keyData.columns.values[0] = 'name'\n",
    "keyData.insert(loc=1, column='year', value=2017)\n",
    "keyData.insert(loc=2, column='spatialLevel', value='municipality')\n",
    "keyData.insert(loc=3, column='state', value='Switzerland')"
   ]
  },
  {
   "cell_type": "code",
   "execution_count": 30,
   "metadata": {},
   "outputs": [
    {
     "data": {
      "text/plain": [
       "Index([u'name', u'year', u'spatialLevel', u'state', u'Residents',\n",
       "       u'Change in %', u'Population density per km²',\n",
       "       u'Foreign nationals in %', u'0-19 years', u'20-64 years',\n",
       "       u'65 years or over', u'Crude marriage rate', u'Crude divorce rate',\n",
       "       u'Crude birth rate', u'Crude mortality rate', u'Private households',\n",
       "       u'Size of households in persons', u'Total surface area in km2',\n",
       "       u'Settlement and urban area in %', u'Change in ha',\n",
       "       u'Agricultural area in %', u'Change in ha.1', u'Wooded area in %',\n",
       "       u'Unproductive area in %', u'Employed total', u'Primary sector',\n",
       "       u'Secondary sector', u'Tertiary sector',\n",
       "       u'Business establishments total', u'Primary sector.1',\n",
       "       u'Secondary sector.1', u'Tertiary sector.1', u'Dwelling vacancy rate',\n",
       "       u'New housing units per 1000 residents', u'Social assistance rate',\n",
       "       u'FDP/PLR 2)', u'CVP', u'SP', u'SVP', u'EVP/CSP', u'GLP', u'BDP',\n",
       "       u'PdA/Sol.', u'GPS', u'Small right-wing parties'],\n",
       "      dtype='object')"
      ]
     },
     "execution_count": 30,
     "metadata": {},
     "output_type": "execute_result"
    }
   ],
   "source": [
    "keyData.columns"
   ]
  },
  {
   "cell_type": "code",
   "execution_count": 33,
   "metadata": {
    "collapsed": true
   },
   "outputs": [],
   "source": [
    "tmpKeyData = pd.DataFrame()\n",
    "tmpKeyData['name']  = keyData.name\n",
    "tmpKeyData['state'] = keyData.state\n",
    "tmpKeyData['spatialLevel'] = keyData.spatialLevel\n",
    "tmpKeyData['year']  = keyData.year\n",
    "tmpKeyData['numberOfInhabitants'] = keyData.Residents\n",
    "tmpKeyData['populationDensityPerKm2'] = keyData['Population density per km²']\n",
    "tmpKeyData['percentageOfForeignNationals'] = keyData['Foreign nationals in %']\n",
    "tmpKeyData['totalSurfaceKm2'] = keyData['Total surface area in km2']\n",
    "tmpKeyData['birthRate'] = keyData['Crude birth rate']\n",
    "tmpKeyData['deathRate'] = keyData['Crude mortality rate']\n",
    "tmpKeyData['diverceRate'] = keyData['Crude divorce rate']\n"
   ]
  },
  {
   "cell_type": "code",
   "execution_count": 39,
   "metadata": {
    "collapsed": true
   },
   "outputs": [],
   "source": [
    "tmpKeyData.to_csv(prefix+'Dropbox (MIT)/HERUS_Lab/SwissDateset/indicators/agglomerateDataset.csv',\n",
    "                 index=None)"
   ]
  },
  {
   "cell_type": "code",
   "execution_count": null,
   "metadata": {
    "collapsed": true
   },
   "outputs": [],
   "source": []
  }
 ],
 "metadata": {
  "anaconda-cloud": {},
  "kernelspec": {
   "display_name": "Python 2",
   "language": "python",
   "name": "python2"
  },
  "language_info": {
   "codemirror_mode": {
    "name": "ipython",
    "version": 2
   },
   "file_extension": ".py",
   "mimetype": "text/x-python",
   "name": "python",
   "nbconvert_exporter": "python",
   "pygments_lexer": "ipython2",
   "version": "2.7.14"
  }
 },
 "nbformat": 4,
 "nbformat_minor": 1
}
