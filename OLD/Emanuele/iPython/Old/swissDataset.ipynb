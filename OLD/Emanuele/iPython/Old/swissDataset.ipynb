{
 "cells": [
  {
   "cell_type": "code",
   "execution_count": null,
   "metadata": {
    "collapsed": true
   },
   "outputs": [],
   "source": [
    "import warnings\n",
    "warnings.filterwarnings('ignore')\n",
    "from __future__ import division\n",
    "%config InlineBackend.figure_format = 'retina'\n",
    "%pylab inline\n",
    "\n",
    "import numpy as np\n",
    "import pandas as pd\n",
    "\n",
    "import matplotlib.pyplot as plt\n",
    "import matplotlib.path as mplPath\n",
    "import matplotlib.patches as patches\n",
    "\n",
    "from matplotlib import rcParams\n",
    "from matplotlib.font_manager import FontProperties\n",
    "from matplotlib.patches import Polygon\n",
    "from matplotlib.collections import PatchCollection\n",
    "from mpl_toolkits.basemap import Basemap\n",
    "\n",
    "import matplotlib.pyplot as plt\n",
    "import matplotlib.cm\n",
    "\n",
    "\n",
    "print matplotlib.matplotlib_fname()\n",
    "from sys import platform\n",
    "\n",
    "\n",
    "from scipy import optimize, special\n",
    "from scipy.optimize import curve_fit\n",
    "from sklearn.metrics import r2_score\n",
    "\n",
    "reload(sys)\n",
    "sys.setdefaultencoding('utf-8')\n",
    "\n",
    "#from translate import translator\n",
    "import goslate\n",
    "from textblob import TextBlob\n",
    "from textblob_de import TextBlobDE\n",
    "import fileinput\n",
    "import goslate\n",
    "\n",
    "import shapefile\n",
    "if platform == \"linux\" or platform == \"linux2\":\n",
    "    prefix = \"/home/massaro/\"\n",
    "elif platform == \"darwin\":\n",
    "    prefix = \"/Users/emanuele/\"\n",
    "    \n",
    "font = {'family': 'sans-serif',\n",
    "        'sans-serif' : 'Arial',\n",
    "        'weight': 'normal',\n",
    "        'size': 25}\n",
    "plt.rc('font', **font)\n",
    "from mpl_toolkits.axes_grid1 import make_axes_locatable\n",
    "from mpl_toolkits.axes_grid1.inset_locator import inset_axes\n",
    "\n",
    "\n",
    "powerlaw = lambda x, amp, index: amp * (x**index)\n",
    "\n",
    "import urllib2\n",
    "\n",
    "proxy_handler = urllib2.ProxyHandler({\"http\" : \"http://proxy-domain.name:8080\"})\n",
    "proxy_opener = urllib2.build_opener(urllib2.HTTPHandler(proxy_handler),\n",
    "                                    urllib2.HTTPSHandler(proxy_handler))\n",
    "\n",
    "powerlaw = lambda x, amp, index: amp * (x**index)\n",
    "\n",
    "import geopandas as gpd"
   ]
  },
  {
   "cell_type": "code",
   "execution_count": null,
   "metadata": {
    "collapsed": true
   },
   "outputs": [],
   "source": [
    "def loadData(folder, nameFile, sep):\n",
    "    string = 'Dropbox (MIT)/HERUS_Lab/SwissDateset/'+ folder + '/' + nameFile \n",
    "    path = prefix + string\n",
    "    tst = pd.read_csv(path, sep = sep)\n",
    "    return tst\n",
    "\n",
    "def translateColumns(col):\n",
    "    translate = []\n",
    "    translate.append(col[0])\n",
    "    for i in col[1:]:\n",
    "        b = TextBlob(i)\n",
    "        print i\n",
    "        A = b.translate(to='en')\n",
    "        translate.append(str(A))\n",
    "    return translate\n",
    "\n",
    "powerlaw = lambda x, amp, index: amp * (x**index)\n",
    "\n",
    "def plotScaling(xdata, ydata, init_vals, name):\n",
    "    props = dict(boxstyle='round', facecolor='wheat', alpha=0.5)\n",
    "    best_vals, covar = curve_fit(powerlaw, xdata, ydata, p0=init_vals)\n",
    "    ypred = powerlaw(xdata, best_vals[0], best_vals[1])\n",
    "    fig,ax = plt.subplots(figsize=(6,6))\n",
    "    plt.plot(xdata, ydata, lw = 0, marker= \"o\")\n",
    "    plt.plot(xdata, ypred)\n",
    "    ax.set_xscale(\"log\", nonposx='clip')\n",
    "    ax.set_yscale(\"log\", nonposy='clip')\n",
    "    ax.set_xlabel('Inhabitants',size = 18)\n",
    "    ax.set_ylabel(name,size = 18)\n",
    "    string1 = r'$\\beta$ = %.2f'%best_vals[1]\n",
    "    string2 = r'$R^2$ = %.2f'%(r2_score(ydata, ypred))\n",
    "    string3 = string1 + '\\n'+ '\\n' + string2\n",
    "    ax.text(0.75, 0.1, string3, transform=ax.transAxes, fontsize=14, \n",
    "            verticalalignment='bottom', bbox=props)\n",
    "    \n",
    "def remove_non_ascii_2(text):\n",
    "    return ''.join([i if ord(i) < 128 else '' for i in text])\n",
    "\n"
   ]
  },
  {
   "cell_type": "code",
   "execution_count": null,
   "metadata": {
    "collapsed": true
   },
   "outputs": [],
   "source": [
    "def plotMap(df, name, string, title, show):\n",
    "    cmap = plt.get_cmap('gnuplot')\n",
    "    norm = matplotlib.colors.Normalize(min(df[string]), max(df[string]))\n",
    "    color_producer = matplotlib.cm.ScalarMappable(norm=norm, cmap=cmap)\n",
    "    missingCities = []\n",
    "    fig,ax = plt.subplots(figsize=(18,13))\n",
    "    cout = 0\n",
    "    tot = 0\n",
    "    l = []\n",
    "    for nshp in xrange(Nshp):\n",
    "        if recs[cout][15] not in l:\n",
    "            l.append(recs[cout][15])\n",
    "            tot+=1\n",
    "        cc = 'cyan'\n",
    "        ec = 'black'\n",
    "        nameCity = recs[cout][15]\n",
    "        tmpCity = df[df[name] == nameCity]\n",
    "        if len(tmpCity) > 0:\n",
    "            cc = color_producer.to_rgba( tmpCity[string][tmpCity.index[0]]  )\n",
    "        else:\n",
    "            missingCities.append([nameCity, cout, recs[cout][17]])\n",
    "            if recs[cout][17]=='LI':\n",
    "                cc = 'white'\n",
    "                ec = 'white'\n",
    "            if recs[cout][17]=='DE':\n",
    "                cc = 'white'\n",
    "                ec = 'white'\n",
    "            if recs[cout][17]=='IT':\n",
    "                cc = 'dwhite'\n",
    "                ec = 'white'\n",
    "        cout+=1\n",
    "        pts     = array(shapes[nshp].points)\n",
    "        prt     = shapes[nshp].parts\n",
    "        par     = list(prt) + [pts.shape[0]]\n",
    "        bbPath = mplPath.Path(pts)\n",
    "        ptchs   = []\n",
    "        for pij in xrange(len(prt)):\n",
    "            ptchs.append(Polygon(pts[par[pij]:par[pij+1]]))\n",
    "            p = PatchCollection(ptchs,facecolor=cc, edgecolor=ec, linewidths = 1)\n",
    "            ax.add_collection(p)\n",
    "    ax.set_xlim(5.5, 11)\n",
    "    ax.set_ylim(45.6,48.2)\n",
    "    ax.set_xlabel('Latitude',size = 30)\n",
    "    ax.set_ylabel('Longitude',size= 30)\n",
    "    ax.set_title(title,size= 30)\n",
    "    if show == 1:\n",
    "        p.set(array= df[string].values, cmap='gnuplot')\n",
    "        cbaxes = inset_axes(ax, width=\"50%\", height=\"3%\", loc=1) \n",
    "        plt.colorbar(p, cax=cbaxes, orientation='horizontal', format='%.0e')\n",
    "    return missingCities"
   ]
  },
  {
   "cell_type": "code",
   "execution_count": null,
   "metadata": {
    "collapsed": true
   },
   "outputs": [],
   "source": [
    "### Locality Postal Code\n",
    "path = prefix + 'Dropbox (MIT)/HERUS_Lab/SwissDateset/localityPostalCode/PLZO_CSV_LV03.csv'\n",
    "zipCodes = pd.read_csv(path, sep= ';', encoding='utf-8')\n",
    "col = ['cityName', 'zipCode', 'additionalClause', 'communityName', 'BFS-Nr', 'cantonAbbreviation', 'E', 'N']\n",
    "zipCodes.columns = col\n",
    "zipCodes['Name of commune'] = zipCodes['communityName'].apply(remove_non_ascii_2)"
   ]
  },
  {
   "cell_type": "code",
   "execution_count": null,
   "metadata": {
    "collapsed": true
   },
   "outputs": [],
   "source": [
    "zipCodes.head(5)"
   ]
  },
  {
   "cell_type": "code",
   "execution_count": null,
   "metadata": {
    "collapsed": true
   },
   "outputs": [],
   "source": [
    "## Municipale Boundaries\n",
    "pathShape = prefix+'Dropbox (MIT)/HERUS_Lab/SwissDateset/boundaries/'\n",
    "sf = shapefile.Reader(pathShape+\"municipalities.shp\")\n",
    "recs    = sf.records()\n",
    "shapes  = sf.shapes()\n",
    "Nshp    = len(shapes)"
   ]
  },
  {
   "cell_type": "code",
   "execution_count": null,
   "metadata": {
    "collapsed": true
   },
   "outputs": [],
   "source": [
    "path = prefix+'Dropbox (MIT)/HERUS_Lab/SwissDateset/keyData/keyData2017.csv'\n",
    "keyData2017 = pd.read_csv(path, sep=',', encoding='utf-8')\n",
    "keyData2017['Name of commune'] = keyData2017['Name of commune'].apply(remove_non_ascii_2)\n",
    "keyData2017['logResidents'] = log(keyData2017.Residents)"
   ]
  },
  {
   "cell_type": "code",
   "execution_count": null,
   "metadata": {
    "collapsed": true
   },
   "outputs": [],
   "source": [
    "keyData2017['OrginName'] = keyData2017['Name of commune']"
   ]
  },
  {
   "cell_type": "code",
   "execution_count": null,
   "metadata": {
    "collapsed": true
   },
   "outputs": [],
   "source": [
    "keyData2017['Name of commune'][1957] = \"Chteau-d'Oex\"\n",
    "keyData2017['Name of commune'][2120] = \"Crans-Montana\"\n",
    "keyData2017['Name of commune'][691]  = \"Estavayer\"\n",
    "keyData2017['Name of commune'][2083] = \"Val-d'Illiez\"\n",
    "keyData2017['Name of commune'][1584] = \"Sant'Antonio\"\n",
    "keyData2017['Name of commune'][1973] = \"L'Abbaye\"\n",
    "keyData2017['Name of commune'][1973] = \"L'Isle\"\n",
    "keyData2017['Name of commune'][1668] = \"Collina d'Oro\"\n",
    "keyData2017['Name of commune'][1583] =  \"Sant'Antonino\"\n",
    "keyData2017['Name of commune'][1909] =  \"L'Abergement\"\n",
    "keyData2017['Name of commune'][1670] =  \"Comunanza Cadenazzo/Monteceneri\"\n",
    "keyData2017['Name of commune'][1655] =  \"Comunanza Capriasca/Lugano\""
   ]
  },
  {
   "cell_type": "code",
   "execution_count": null,
   "metadata": {
    "collapsed": true
   },
   "outputs": [],
   "source": [
    "ms = plotMap(keyData2017, 'Name of commune', 'logResidents', 'Residents (log)', 1)"
   ]
  },
  {
   "cell_type": "code",
   "execution_count": null,
   "metadata": {
    "collapsed": true
   },
   "outputs": [],
   "source": [
    "ms = plotMap(keyData2017, 'Name of commune', 'Population density per km²', 'Density per Km2',1)"
   ]
  },
  {
   "cell_type": "code",
   "execution_count": null,
   "metadata": {
    "collapsed": true
   },
   "outputs": [],
   "source": [
    "tmp = keyData2017\n",
    "\n",
    "tmp = tmp.merge(zipCodes, on='Name of commune')  # merge dataframe\n",
    "\n",
    "ms = plotMap(tmp, 'Name of commune', 'zipCode', 'Postal Code', 0)"
   ]
  },
  {
   "cell_type": "code",
   "execution_count": null,
   "metadata": {
    "collapsed": true
   },
   "outputs": [],
   "source": []
  },
  {
   "cell_type": "code",
   "execution_count": null,
   "metadata": {
    "collapsed": true
   },
   "outputs": [],
   "source": [
    "zipCodes['Name of commune'][3014]"
   ]
  },
  {
   "cell_type": "code",
   "execution_count": null,
   "metadata": {
    "collapsed": true
   },
   "outputs": [],
   "source": [
    "ms"
   ]
  },
  {
   "cell_type": "code",
   "execution_count": null,
   "metadata": {
    "collapsed": true
   },
   "outputs": [],
   "source": [
    "pathS = '/home/massaro/Dropbox (MIT)/HERUS_Lab/SwissDateset/boundaries/'"
   ]
  },
  {
   "cell_type": "code",
   "execution_count": null,
   "metadata": {
    "collapsed": true
   },
   "outputs": [],
   "source": [
    "fig, ax = plt.subplots(figsize=(10,20))\n",
    "m = Basemap(resolution='c', # c, l, i, h, f or None\n",
    "            projection='merc',\n",
    "            lat_0 = 40.5, lon_0=0.36,\n",
    "            llcrnrlon=5, llcrnrlat= 45.5, urcrnrlon=11., urcrnrlat=48.5)\n",
    "m.drawmapboundary(fill_color='#46bcec')\n",
    "m.fillcontinents(color='#f2f2f2',lake_color='#46bcec')\n",
    "m.drawcoastlines()\n",
    "m.drawcountries(linewidth=3,color='black')\n",
    "#m.readshapefile(pathS+\"municipalities\", 'areas')"
   ]
  },
  {
   "cell_type": "code",
   "execution_count": null,
   "metadata": {
    "collapsed": true
   },
   "outputs": [],
   "source": []
  },
  {
   "cell_type": "code",
   "execution_count": null,
   "metadata": {
    "collapsed": true
   },
   "outputs": [],
   "source": [
    "# Age Class\n",
    "tst = loadData('ageClass/', 'tstst2.22011.csv', \";\")\n",
    "# Road Network\n",
    "tmp = loadData('roadCalculation/', 'mantstst51.csv', \",\")\n",
    "tmp.columns = translateColumns(tmp.columns)  # translate columns\n",
    "tst = tst.merge(tmp, on='Stadtname')  # merge dataframe"
   ]
  },
  {
   "cell_type": "code",
   "execution_count": null,
   "metadata": {
    "collapsed": true
   },
   "outputs": [],
   "source": [
    "#Unemployment\n",
    "tmp = loadData('unemployment/', 'mantstst4.4.csv', \";\")\n",
    "tst = tst.merge(tmp, on='Stadtname')  # merge dataframe"
   ]
  },
  {
   "cell_type": "code",
   "execution_count": null,
   "metadata": {
    "collapsed": true
   },
   "outputs": [],
   "source": [
    "## Civil \n",
    "tmp = loadData('genderCivilStatus/', 'tstst2.3.csv', \";\")\n",
    "tmp.columns = translateColumns(tmp.columns)  # translate columns\n",
    "tst = tst.merge(tmp, on='Stadtname')  # merge dataframe"
   ]
  },
  {
   "cell_type": "code",
   "execution_count": null,
   "metadata": {
    "collapsed": true
   },
   "outputs": [],
   "source": [
    "population = xdata = tst['Sex (women)'] + tst['Sex (Men)']"
   ]
  },
  {
   "cell_type": "code",
   "execution_count": null,
   "metadata": {
    "collapsed": true
   },
   "outputs": [],
   "source": [
    "init_vals = [0.01, 1.1]\n",
    "name = 'arbeitslose_total'\n",
    "ydata = tst[name]\n",
    "plotScaling(xdata, ydata, init_vals, name)"
   ]
  },
  {
   "cell_type": "code",
   "execution_count": null,
   "metadata": {
    "collapsed": true
   },
   "outputs": [],
   "source": [
    "init_vals = [0.01, 1.1]\n",
    "name = 'teilzeit_al_total'\n",
    "ydata = tst[name]\n",
    "plotScaling(xdata, ydata, init_vals, name)"
   ]
  },
  {
   "cell_type": "code",
   "execution_count": null,
   "metadata": {
    "collapsed": true
   },
   "outputs": [],
   "source": []
  }
 ],
 "metadata": {
  "anaconda-cloud": {},
  "kernelspec": {
   "display_name": "Python 2",
   "language": "python",
   "name": "python2"
  },
  "language_info": {
   "codemirror_mode": {
    "name": "ipython",
    "version": 2
   },
   "file_extension": ".py",
   "mimetype": "text/x-python",
   "name": "python",
   "nbconvert_exporter": "python",
   "pygments_lexer": "ipython2",
   "version": "2.7.14"
  }
 },
 "nbformat": 4,
 "nbformat_minor": 1
}
