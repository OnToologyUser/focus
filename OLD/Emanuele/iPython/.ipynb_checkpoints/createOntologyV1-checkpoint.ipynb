{
 "cells": [
  {
   "cell_type": "code",
   "execution_count": 1,
   "metadata": {},
   "outputs": [
    {
     "name": "stdout",
     "output_type": "stream",
     "text": [
      "Populating the interactive namespace from numpy and matplotlib\n"
     ]
    }
   ],
   "source": [
    "from __future__ import division\n",
    "\n",
    "import warnings\n",
    "warnings.filterwarnings('ignore')\n",
    "%config InlineBackend.figure_format = 'retina'\n",
    "%pylab inline\n",
    "\n",
    "import numpy as np\n",
    "import pandas as pd\n",
    "import re\n",
    "import pprint\n",
    "\n",
    "import rdflib\n",
    "from rdflib.graph import Graph, ConjunctiveGraph\n",
    "from rdflib import Graph, URIRef, BNode, Literal\n",
    "from rdflib import RDF\n",
    "from rdflib import Namespace\n",
    "from rdflib.namespace import OWL, RDF, RDFS, FOAF, XSD\n",
    "from sys import platform\n",
    "import slugify\n",
    "if platform == \"linux\" or platform == \"linux2\":\n",
    "    prefix = \"/home/massaro/\"\n",
    "elif platform == \"darwin\":\n",
    "    prefix = \"/Users/emanuele/\"\n",
    "    \n",
    "dbpedia  = rdflib.Namespace('http://dbpedia.org/ontology/')\n",
    "time     = rdflib.Namespace('http://www.w3.org/2006/time#')"
   ]
  },
  {
   "cell_type": "code",
   "execution_count": null,
   "metadata": {
    "collapsed": true
   },
   "outputs": [],
   "source": []
  },
  {
   "cell_type": "code",
   "execution_count": null,
   "metadata": {
    "collapsed": true
   },
   "outputs": [],
   "source": []
  },
  {
   "cell_type": "code",
   "execution_count": null,
   "metadata": {
    "collapsed": true
   },
   "outputs": [],
   "source": []
  },
  {
   "cell_type": "code",
   "execution_count": 3,
   "metadata": {},
   "outputs": [],
   "source": [
    "g = Graph()\n",
    "herusOntology = prefix + \"Desktop/provaHerus.rdf\" \n",
    "g.parse(herusOntology)\n",
    "ontology = Namespace(ontologyURI)\n",
    "g.bind(\"focus\", ontology)\n",
    "urbanSystem = URIRef(ontology[\"urbanSystem\"])\n",
    "# Add the OWL data to the graph\n",
    "g.add((urbanSystem, RDF.type, OWL.Class))\n",
    "g.add((urbanSystem, RDFS.subClassOf, OWL.Thing))\n",
    "g.add((urbanSystem, OWL.equivalentClass, dbpedia.city))\n",
    "g.add((time.year, RDF.type, OWL.Class))\n",
    "# Add properties\n",
    "h = URIRef(ontology[\"hasYear\"])\n",
    "g.add((h, RDF.type, OWL.ObjectProperty ))\n",
    "#g.add((h, RDF.type, RDF.Property))\n",
    "\n",
    "#g.add((h, RDFS.subPropertyOf, OWL.topObjectProperty))"
   ]
  },
  {
   "cell_type": "code",
   "execution_count": 4,
   "metadata": {
    "collapsed": true
   },
   "outputs": [],
   "source": [
    "#g.serialize(destination=prefix+'Desktop/outputW.rdf', format='turtle')"
   ]
  },
  {
   "cell_type": "code",
   "execution_count": 5,
   "metadata": {},
   "outputs": [],
   "source": [
    "years = [2012, 2013, 2014, 2015, 2016, 2017]\n",
    "fName = 'Dropbox (MIT)/HERUS_Lab/Data/Switzerland/keyData/keyDataSwiss%d.csv'%years[0]\n",
    "data = pd.read_csv(prefix + fName,index_col=None, sep = ' ')\n",
    "y = URIRef(ontology[str(years[0])])\n",
    "g.add((y, RDF.type, time.year))\n",
    "g.add((y, RDF.type, OWL.Class))\n",
    "for j in range(0,len(data)):  \n",
    "    string = \"http://www.semanticweb.org/emanuele/ontologies/2017/8/herusOntology/swissmunicipality%d\"%j\n",
    "    idS = URIRef(string)\n",
    "    #g.add( (idS, RDF.type, urbanSystem))\n",
    "    for k in data.columns[:1]:   \n",
    "        n = data[k][j]\n",
    "        n = Literal(n) # passing a string\n",
    "        g.add((idS, RDF.type, dpe))\n",
    "        \n",
    "        g.add((ontology[k], RDFS.subClassOf, ontology.indicators)) ##i.e. name\n",
    "        #g.add((ontology[k], ontology.year, y))\n",
    "        \n",
    "        #g.add((idS, ontology[k], n))\n",
    "        \n",
    "        \n",
    "        #newClass = ontology[k]\n",
    "        \n",
    "        \n",
    "        #g.add((newClass, RDF.type, OWL.Class))\n",
    "        #g.add((newClass, RDFS.subClassOf, ontology.indicators))\n",
    "        \n",
    "        #g.add( ( bob, ontology.year, Literal(42) ) )\n",
    "        \n",
    "        #g.add((n, RDF.type, RDF.Description))\n",
    "        #\n",
    "        #\n",
    "        #g.add((n, RDF.type, urbanSystem))\n",
    "        #g.add((urbanSystem, newClass, n))"
   ]
  },
  {
   "cell_type": "code",
   "execution_count": null,
   "metadata": {},
   "outputs": [],
   "source": [
    "idS"
   ]
  },
  {
   "cell_type": "code",
   "execution_count": 6,
   "metadata": {},
   "outputs": [],
   "source": [
    "g.serialize(destination=prefix+'Desktop/outputW.rdf', format='turtle')"
   ]
  },
  {
   "cell_type": "code",
   "execution_count": null,
   "metadata": {},
   "outputs": [],
   "source": [
    "newClass"
   ]
  },
  {
   "cell_type": "code",
   "execution_count": null,
   "metadata": {},
   "outputs": [],
   "source": [
    "n"
   ]
  },
  {
   "cell_type": "code",
   "execution_count": null,
   "metadata": {
    "collapsed": true
   },
   "outputs": [],
   "source": [
    "years = [2012, 2013, 2014, 2015, 2016, 2017]\n",
    "fName = 'Dropbox (MIT)/HERUS_Lab/Data/Switzerland/keyData/keyDataSwiss%d.csv'%years[0]\n",
    "data = pd.read_csv(prefix + fName,index_col=None, sep = ' ', encoding='UTF8')\n",
    "ind = data.columns\n",
    "## Add year\n",
    "y = URIRef(ontology[str(years[0])])\n",
    "g.add((y, RDF.type, time.year))\n",
    "g.add((y, RDF.type, OWL.Class))\n",
    "\n",
    "\n",
    "for i,j in enumerate(ind[:1]):\n",
    "    n = Literal(j)\n",
    "    g.add((ontology[n], RDFS.subClassOf, ontology.indicators))\n",
    "\n",
    "    #g.add((, RDFS.subClassOf, ontology[n]))\n",
    "    #g.add((ontology[n].year, ontology[n]))\n",
    "    for v,k in enumerate(data[j]):\n",
    "        string = \"swissmunicipality%d\"%v\n",
    "        name1 = URIRef(string)\n",
    "        g.add( (name1, RDF.type, ontology.urbanSystem) )\n",
    "        urnL = URIRef(ontology[k])\n",
    "        g.add((name1, Literal(urnL) , n))\n",
    "        #print k"
   ]
  }
 ],
 "metadata": {
  "anaconda-cloud": {},
  "kernelspec": {
   "display_name": "Python 2",
   "language": "python",
   "name": "python2"
  },
  "language_info": {
   "codemirror_mode": {
    "name": "ipython",
    "version": 2
   },
   "file_extension": ".py",
   "mimetype": "text/x-python",
   "name": "python",
   "nbconvert_exporter": "python",
   "pygments_lexer": "ipython2",
   "version": "2.7.14"
  }
 },
 "nbformat": 4,
 "nbformat_minor": 1
}
