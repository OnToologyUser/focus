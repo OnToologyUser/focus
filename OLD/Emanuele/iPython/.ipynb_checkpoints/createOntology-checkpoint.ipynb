{
 "cells": [
  {
   "cell_type": "code",
   "execution_count": 1,
   "metadata": {},
   "outputs": [
    {
     "name": "stdout",
     "output_type": "stream",
     "text": [
      "Populating the interactive namespace from numpy and matplotlib\n"
     ]
    }
   ],
   "source": [
    "from __future__ import division\n",
    "\n",
    "import warnings\n",
    "warnings.filterwarnings('ignore')\n",
    "%config InlineBackend.figure_format = 'retina'\n",
    "%pylab inline\n",
    "\n",
    "import numpy as np\n",
    "import pandas as pd\n",
    "import re\n",
    "import pprint\n",
    "from django.template.defaultfilters import slugify\n",
    "\n",
    "import rdflib\n",
    "from rdflib.graph import Graph, ConjunctiveGraph\n",
    "from rdflib import Graph, URIRef, BNode, Literal\n",
    "from rdflib import RDF\n",
    "from rdflib import Namespace\n",
    "from rdflib.namespace import OWL, RDF, RDFS, FOAF, XSD\n",
    "from sys import platform\n",
    "if platform == \"linux\" or platform == \"linux2\":\n",
    "    prefix = \"/home/massaro/\"\n",
    "elif platform == \"darwin\":\n",
    "    prefix = \"/Users/emanuele/\""
   ]
  },
  {
   "cell_type": "code",
   "execution_count": 71,
   "metadata": {
    "collapsed": true
   },
   "outputs": [],
   "source": [
    " # Create the graph \n",
    "g = Graph()\n",
    "FOCUS = Namespace(\"http://www.semanticweb.org/emanuele/ontologies/2017/8/herusOntology/\")\n",
    "rno = Namespace(FOCUS+\"#\")\n",
    "\n",
    "\n",
    "g.bind(\"focus\", FOCUS)\n",
    "# Create the node to add to the Graph\n",
    "urbanSystem = URIRef(FOCUS[\"urbanSystem\"])\n",
    "# Add the OWL data to the graph\n",
    "g.add((urbanSystem, RDF.type, OWL.Class))\n",
    "g.add((urbanSystem, RDFS.subClassOf, OWL.Thing))\n",
    "\n",
    "indicators = URIRef(FOCUS[\"indicators\"])\n",
    "# Add the OWL data to the graph\n",
    "g.add((indicators, RDF.type, OWL.Class))\n",
    "g.add((indicators, RDFS.subClassOf, urbanSystem))\n",
    "\n",
    "\n",
    "year = URIRef(FOCUS[\"year\"])\n",
    "\n",
    "# Add the OWL data to the graph\n",
    "g.add((year, RDF.type, XSD.Date))"
   ]
  },
  {
   "cell_type": "code",
   "execution_count": 72,
   "metadata": {
    "collapsed": true
   },
   "outputs": [],
   "source": [
    "years = [2012, 2013, 2014, 2015, 2016, 2017]\n",
    "fName = 'Dropbox (MIT)/HERUS_Lab/Data/Switzerland/keyData/keyDataSwiss%d.csv'%2017\n",
    "data = pd.read_csv(prefix + fName,index_col=None, sep = ' ')\n",
    "\n",
    "y = years[0]\n",
    "for j in range(0,len(data)):  \n",
    "    i = data.name[j]\n",
    "    i = str(slugify(i))\n",
    "    string = \"http://www.semanticweb.org/emanuele/ontologies/2017/8/herusOntology/swissmunicipality%d\"%j\n",
    "    name1 = URIRef(string)\n",
    "    \n",
    "    g.add( (name1, RDF.type, FOCUS.urbanSystem) )\n",
    "    #g.add( (yy, RDF.type, FOCUS.year) )\n",
    "    for k in data.columns[:1]:   \n",
    "        n = data[k][j]\n",
    "        n = Literal(n) # passing a string\n",
    "        g.add((FOCUS[k], RDFS.subClassOf, FOCUS.indicators))\n",
    "        #g.add((year, RDFS.subClassOf, FOCUS[k]))\n",
    "        lit2012 = Literal(y,datatype=XSD.date)\n",
    "        name2 = URIRef(FOCUS[k]+'#date')\n",
    "        #g.add((name2, XSD.Date, lit2012))\n",
    "        g.add((year, RDFS.subClassOf, name1))\n",
    "        \n",
    "        g.add((name1, FOCUS[k], n))\n",
    "\n",
    "        \n",
    "        "
   ]
  },
  {
   "cell_type": "code",
   "execution_count": 1,
   "metadata": {},
   "outputs": [
    {
     "ename": "NameError",
     "evalue": "name 'k' is not defined",
     "output_type": "error",
     "traceback": [
      "\u001b[0;31m---------------------------------------------------------------------------\u001b[0m",
      "\u001b[0;31mNameError\u001b[0m                                 Traceback (most recent call last)",
      "\u001b[0;32m<ipython-input-1-ccc87e725786>\u001b[0m in \u001b[0;36m<module>\u001b[0;34m()\u001b[0m\n\u001b[0;32m----> 1\u001b[0;31m \u001b[0mk\u001b[0m\u001b[0;34m\u001b[0m\u001b[0m\n\u001b[0m",
      "\u001b[0;31mNameError\u001b[0m: name 'k' is not defined"
     ]
    }
   ],
   "source": [
    "k"
   ]
  },
  {
   "cell_type": "code",
   "execution_count": 76,
   "metadata": {},
   "outputs": [
    {
     "data": {
      "text/plain": [
       "rdflib.term.URIRef(u'http://www.semanticweb.org/emanuele/ontologies/2017/8/herusOntology/swissmunicipality2286')"
      ]
     },
     "execution_count": 76,
     "metadata": {},
     "output_type": "execute_result"
    }
   ],
   "source": [
    "name1"
   ]
  },
  {
   "cell_type": "code",
   "execution_count": 67,
   "metadata": {
    "collapsed": true
   },
   "outputs": [],
   "source": [
    "        \n",
    "        \n",
    "        \n",
    "        yy = Literal(y)\n",
    "        g.add((FOCUS[k], FOCUS.year, yy ))"
   ]
  },
  {
   "cell_type": "code",
   "execution_count": 73,
   "metadata": {
    "collapsed": true
   },
   "outputs": [],
   "source": [
    "g.serialize(destination=prefix+'Desktop/outputW.rdf', format='turtle')"
   ]
  },
  {
   "cell_type": "code",
   "execution_count": 14,
   "metadata": {},
   "outputs": [
    {
     "data": {
      "text/plain": [
       "rdflib.term.URIRef(u'http://www.semanticweb.org/emanuele/ontologies/2017/8/herusOntology/name')"
      ]
     },
     "execution_count": 14,
     "metadata": {},
     "output_type": "execute_result"
    }
   ],
   "source": [
    "FOCUS[k]"
   ]
  },
  {
   "cell_type": "code",
   "execution_count": null,
   "metadata": {
    "collapsed": true
   },
   "outputs": [],
   "source": [
    "for y in years:\n",
    "    fName = 'Dropbox (MIT)/HERUS_Lab/Data/Switzerland/keyDataSwiss%d.csv'%y\n",
    "    data = pd.read_csv(prefix + fName,index_col=None, sep = ' ')\n",
    "    yy = Literal(y)\n",
    "    yy = URIRef(FOCUS[yy])\n",
    "    for i in data.columns[:1]:\n",
    "        name = URIRef(FOCUS[i])\n",
    "        g.add((name, RDF.type, OWL.Class))\n",
    "        g.add((name, RDFS.subClassOf, indicators))"
   ]
  },
  {
   "cell_type": "code",
   "execution_count": null,
   "metadata": {
    "collapsed": true
   },
   "outputs": [],
   "source": []
  },
  {
   "cell_type": "code",
   "execution_count": null,
   "metadata": {
    "collapsed": true
   },
   "outputs": [],
   "source": [
    "name1"
   ]
  },
  {
   "cell_type": "code",
   "execution_count": null,
   "metadata": {
    "collapsed": true
   },
   "outputs": [],
   "source": [
    "year"
   ]
  },
  {
   "cell_type": "code",
   "execution_count": null,
   "metadata": {
    "collapsed": true
   },
   "outputs": [],
   "source": [
    "print g.serialize( format='turtle')"
   ]
  },
  {
   "cell_type": "code",
   "execution_count": null,
   "metadata": {
    "collapsed": true
   },
   "outputs": [],
   "source": [
    "qres = g.query(\n",
    "    \"\"\"\n",
    "        SELECT ?city\n",
    "        WHERE\n",
    "        { \n",
    "           ?city focus:name \"Lausanne\".\n",
    "           }\"\"\"\n",
    ")"
   ]
  },
  {
   "cell_type": "code",
   "execution_count": null,
   "metadata": {
    "collapsed": true
   },
   "outputs": [],
   "source": [
    "for row in qres:\n",
    "    print(\"%s\" % row)"
   ]
  },
  {
   "cell_type": "code",
   "execution_count": null,
   "metadata": {
    "collapsed": true
   },
   "outputs": [],
   "source": [
    "g.serialize(destination=prefix+'Desktop/output.rdf', format='turtle')"
   ]
  },
  {
   "cell_type": "code",
   "execution_count": null,
   "metadata": {
    "collapsed": true
   },
   "outputs": [],
   "source": [
    "qres = g.query(\n",
    "    \"\"\"\n",
    "        SELECT ?townName ?pop  \n",
    "        WHERE\n",
    "        { \n",
    "           ?city focus:name ?townName.\n",
    "           ?city focus:numberOfInhabitants ?pop.\n",
    "           FILTER(?pop < 100)\n",
    "           }\"\"\"\n",
    ")"
   ]
  },
  {
   "cell_type": "code",
   "execution_count": null,
   "metadata": {
    "collapsed": true
   },
   "outputs": [],
   "source": [
    "for row in qres:\n",
    "    print(\"%s has %s inhabitants\" % row)"
   ]
  },
  {
   "cell_type": "code",
   "execution_count": null,
   "metadata": {
    "collapsed": true
   },
   "outputs": [],
   "source": [
    "qres = g.query(\n",
    "    \"\"\"\n",
    "        SELECT ?Name\n",
    "        WHERE\n",
    "        { \n",
    "           ?Name focus:name \"lausanne\".\n",
    "\n",
    "           }\"\"\"\n",
    ")"
   ]
  },
  {
   "cell_type": "code",
   "execution_count": null,
   "metadata": {
    "collapsed": true
   },
   "outputs": [],
   "source": [
    "for row in qres:\n",
    "    print(\"%s \" % row)"
   ]
  },
  {
   "cell_type": "code",
   "execution_count": null,
   "metadata": {
    "collapsed": true
   },
   "outputs": [],
   "source": []
  }
 ],
 "metadata": {
  "anaconda-cloud": {},
  "kernelspec": {
   "display_name": "Python 2",
   "language": "python",
   "name": "python2"
  },
  "language_info": {
   "codemirror_mode": {
    "name": "ipython",
    "version": 2
   },
   "file_extension": ".py",
   "mimetype": "text/x-python",
   "name": "python",
   "nbconvert_exporter": "python",
   "pygments_lexer": "ipython2",
   "version": "2.7.14"
  }
 },
 "nbformat": 4,
 "nbformat_minor": 2
}
